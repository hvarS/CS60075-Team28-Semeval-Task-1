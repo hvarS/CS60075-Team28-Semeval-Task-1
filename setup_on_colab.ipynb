{
  "nbformat": 4,
  "nbformat_minor": 0,
  "metadata": {
    "colab": {
      "name": "setup_on_colab.ipynb",
      "provenance": [],
      "collapsed_sections": [
        "iWllGGu74i-E"
      ],
      "authorship_tag": "ABX9TyPBcdmMeJpqe+KDg9N1qp5z",
      "include_colab_link": true
    },
    "kernelspec": {
      "name": "python3",
      "display_name": "Python 3"
    },
    "language_info": {
      "name": "python"
    }
  },
  "cells": [
    {
      "cell_type": "markdown",
      "metadata": {
        "id": "view-in-github",
        "colab_type": "text"
      },
      "source": [
        "<a href=\"https://colab.research.google.com/github/hvarS/CS60075-Team28-Task-1/blob/main/setup_on_colab.ipynb\" target=\"_parent\"><img src=\"https://colab.research.google.com/assets/colab-badge.svg\" alt=\"Open In Colab\"/></a>"
      ]
    },
    {
      "cell_type": "code",
      "metadata": {
        "colab": {
          "base_uri": "https://localhost:8080/"
        },
        "id": "ZBOX0_Tm33_9",
        "outputId": "c5c1f86e-d767-468d-a842-de2ff6c5408b"
      },
      "source": [
        "from google.colab import drive\n",
        "drive.mount('/content/drive')"
      ],
      "execution_count": null,
      "outputs": [
        {
          "output_type": "stream",
          "text": [
            "Drive already mounted at /content/drive; to attempt to forcibly remount, call drive.mount(\"/content/drive\", force_remount=True).\n"
          ],
          "name": "stdout"
        }
      ]
    },
    {
      "cell_type": "markdown",
      "metadata": {
        "id": "izQFO_9p4VFz"
      },
      "source": [
        "## Generate and add ssh key"
      ]
    },
    {
      "cell_type": "code",
      "metadata": {
        "id": "DEIw9zHK4HAP"
      },
      "source": [
        "# #  do not enter any passphrase\n",
        "!ssh-keygen -t rsa -b 4096"
      ],
      "execution_count": null,
      "outputs": []
    },
    {
      "cell_type": "code",
      "metadata": {
        "id": "6q22IQeI4NHb",
        "colab": {
          "base_uri": "https://localhost:8080/"
        },
        "outputId": "4e1395d5-9359-4424-c1e9-78aa52fe7f64"
      },
      "source": [
        "!ssh-keyscan -t rsa github.com >> ~/.ssh/known_hosts"
      ],
      "execution_count": null,
      "outputs": [
        {
          "output_type": "stream",
          "text": [
            "\n",
            "# github.com:22 SSH-2.0-babeld-2f385212\n"
          ],
          "name": "stdout"
        }
      ]
    },
    {
      "cell_type": "code",
      "metadata": {
        "id": "YyR0_tCs4Pn1"
      },
      "source": [
        "# Add this to github\n",
        "# Go to the below link and add the displayed key under New SSH key\n",
        "# https://github.com/settings/keys\n",
        "!cat /root/.ssh/id_rsa.pub"
      ],
      "execution_count": null,
      "outputs": []
    },
    {
      "cell_type": "code",
      "metadata": {
        "id": "60ZQHSr55rzf"
      },
      "source": [
        "# add your email id\n",
        "!git config --global user.email \"ankit2000.bagde@gmail.com\""
      ],
      "execution_count": null,
      "outputs": []
    },
    {
      "cell_type": "markdown",
      "metadata": {
        "id": "iWllGGu74i-E"
      },
      "source": [
        "## Git clone"
      ]
    },
    {
      "cell_type": "code",
      "metadata": {
        "colab": {
          "base_uri": "https://localhost:8080/"
        },
        "id": "5IBQZT2b39I3",
        "outputId": "494bf939-2f83-446a-97e7-191af7739755"
      },
      "source": [
        "# clone it \n",
        "%cd /content/drive/MyDrive/\n",
        "!git clone git@github.com:hvarS/CS60075-Team28-Task-1.git\n",
        "\n",
        "%cd CS60075-Team28-Task-1\n",
        "\n",
        "# unzip corpus to make code executable\n",
        "!unzip corpus.zip"
      ],
      "execution_count": null,
      "outputs": [
        {
          "output_type": "stream",
          "text": [
            "/content/drive/MyDrive\n",
            "Cloning into 'CS60075-Team28-Task-1'...\n",
            "remote: Enumerating objects: 293, done.\u001b[K\n",
            "remote: Counting objects: 100% (293/293), done.\u001b[K\n",
            "remote: Compressing objects: 100% (225/225), done.\u001b[K\n",
            "remote: Total 293 (delta 153), reused 176 (delta 63), pack-reused 0\u001b[K\n",
            "Receiving objects: 100% (293/293), 100.42 MiB | 10.63 MiB/s, done.\n",
            "Resolving deltas: 100% (153/153), done.\n",
            "Checking out files: 100% (80/80), done.\n",
            "/content/drive/MyDrive/CS60075-Team28-Task-1\n",
            "Archive:  corpus.zip\n",
            "   creating: corpus/\n",
            "  inflating: corpus/biomedical_sorted.txt  \n",
            "  inflating: corpus/English_sorted.txt  \n",
            "  inflating: corpus/familarity.txt   \n",
            "  inflating: corpus/subtitles_sorted.txt  \n",
            "  inflating: corpus/simple_last_col_sorted.txt  \n",
            "  inflating: corpus/biomedical.txt   \n",
            "  inflating: corpus/English_preprocessed.txt  \n",
            "  inflating: corpus/biomedical_preprocessed.txt  \n",
            "  inflating: corpus/simple_last_col_preprocessed.txt  \n",
            "  inflating: corpus/English.txt      \n",
            "   creating: corpus/nlpdata_craft/\n",
            "  inflating: corpus/nlpdata_craft/16109169.txt  \n",
            "  inflating: corpus/nlpdata_craft/16121255.txt  \n",
            "  inflating: corpus/nlpdata_craft/16255782.txt  \n",
            "  inflating: corpus/nlpdata_craft/16362077.txt  \n",
            "  inflating: corpus/nlpdata_craft/15676071.txt  \n",
            "  inflating: corpus/nlpdata_craft/15760270.txt  \n",
            "  inflating: corpus/nlpdata_craft/17020410.txt  \n",
            "  inflating: corpus/nlpdata_craft/16504174.txt  \n",
            "  inflating: corpus/nlpdata_craft/16098226.txt  \n",
            "  inflating: corpus/nlpdata_craft/16870721.txt  \n",
            "  inflating: corpus/nlpdata_craft/16504143.txt  \n",
            "  inflating: corpus/nlpdata_craft/15836427.txt  \n",
            "  inflating: corpus/nlpdata_craft/16579849.txt  \n",
            "  inflating: corpus/nlpdata_craft/17244351.txt  \n",
            "  inflating: corpus/nlpdata_craft/16507151.txt  \n",
            "  inflating: corpus/nlpdata_craft/16279840.txt  \n",
            "  inflating: corpus/nlpdata_craft/17194222.txt  \n",
            "  inflating: corpus/nlpdata_craft/17022820.txt  \n",
            "  inflating: corpus/nlpdata_craft/16216087.txt  \n",
            "  inflating: corpus/nlpdata_craft/15876356.txt  \n",
            "  inflating: corpus/nlpdata_craft/16110338.txt  \n",
            "  inflating: corpus/nlpdata_craft/16628246.txt  \n",
            "  inflating: corpus/nlpdata_craft/17078885.txt  \n",
            "  inflating: corpus/nlpdata_craft/17002498.txt  \n",
            "  inflating: corpus/nlpdata_craft/15917436.txt  \n",
            "  inflating: corpus/nlpdata_craft/16700629.txt  \n",
            "  inflating: corpus/nlpdata_craft/17069463.txt  \n",
            "  inflating: corpus/nlpdata_craft/15550985.txt  \n",
            "  inflating: corpus/nlpdata_craft/17425782.txt  \n",
            "  inflating: corpus/nlpdata_craft/17447844.txt  \n",
            "  inflating: corpus/nlpdata_craft/17696610.txt  \n",
            "  inflating: corpus/nlpdata_craft/17083276.txt  \n",
            "  inflating: corpus/nlpdata_craft/15938754.txt  \n",
            "  inflating: corpus/nlpdata_craft/16221973.txt  \n",
            "  inflating: corpus/nlpdata_craft/15819996.txt  \n",
            "  inflating: corpus/nlpdata_craft/17590087.txt  \n",
            "  inflating: corpus/nlpdata_craft/16103912.txt  \n",
            "  inflating: corpus/nlpdata_craft/15921521.txt  \n",
            "  inflating: corpus/nlpdata_craft/16670015.txt  \n",
            "  inflating: corpus/nlpdata_craft/12079497.txt  \n",
            "  inflating: corpus/nlpdata_craft/16433929.txt  \n",
            "  inflating: corpus/nlpdata_craft/16462940.txt  \n",
            "  inflating: corpus/nlpdata_craft/16121256.txt  \n",
            "  inflating: corpus/nlpdata_craft/15314655.txt  \n",
            "  inflating: corpus/nlpdata_craft/14723793.txt  \n",
            "  inflating: corpus/nlpdata_craft/11532192.txt  \n",
            "  inflating: corpus/nlpdata_craft/12546709.txt  \n",
            "  inflating: corpus/nlpdata_craft/17608565.txt  \n",
            "  inflating: corpus/nlpdata_craft/12925238.txt  \n",
            "  inflating: corpus/nlpdata_craft/16539743.txt  \n",
            "  inflating: corpus/nlpdata_craft/15328533.txt  \n",
            "  inflating: corpus/nlpdata_craft/15492776.txt  \n",
            "  inflating: corpus/nlpdata_craft/15630473.txt  \n",
            "  inflating: corpus/nlpdata_craft/15207008.txt  \n",
            "  inflating: corpus/nlpdata_craft/11897010.txt  \n",
            "  inflating: corpus/nlpdata_craft/15061865.txt  \n",
            "  inflating: corpus/nlpdata_craft/15314659.txt  \n",
            "  inflating: corpus/nlpdata_craft/14609438.txt  \n",
            "  inflating: corpus/nlpdata_craft/12585968.txt  \n",
            "  inflating: corpus/nlpdata_craft/15588329.txt  \n",
            "  inflating: corpus/nlpdata_craft/15320950.txt  \n",
            "  inflating: corpus/nlpdata_craft/14737183.txt  \n",
            "  inflating: corpus/nlpdata_craft/15345036.txt  \n",
            "  inflating: corpus/nlpdata_craft/14611657.txt  \n",
            "  inflating: corpus/nlpdata_craft/15005800.txt  \n",
            "  inflating: corpus/nlpdata_craft/11597317.txt  \n",
            "  inflating: corpus/nlpdata_craft/15040800.txt  \n",
            "  inflating: corpus/subtitles_preprocessed.txt  \n",
            "  inflating: corpus/simple_last_col.txt  \n",
            "  inflating: corpus/simple.txt       \n",
            "  inflating: corpus/subtitles.txt    \n"
          ],
          "name": "stdout"
        }
      ]
    },
    {
      "cell_type": "code",
      "metadata": {
        "id": "SrUT_jMKkrpR"
      },
      "source": [
        ""
      ],
      "execution_count": null,
      "outputs": []
    }
  ]
}