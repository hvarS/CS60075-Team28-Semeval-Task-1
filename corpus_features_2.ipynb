{
  "nbformat": 4,
  "nbformat_minor": 0,
  "metadata": {
    "colab": {
      "name": "corpus_features_2.ipynb",
      "provenance": [],
      "include_colab_link": true
    },
    "kernelspec": {
      "name": "python3",
      "display_name": "Python 3"
    },
    "language_info": {
      "name": "python"
    }
  },
  "cells": [
    {
      "cell_type": "markdown",
      "metadata": {
        "id": "view-in-github",
        "colab_type": "text"
      },
      "source": [
        "<a href=\"https://colab.research.google.com/github/hvarS/CS60075-Team28-Task-1/blob/main/corpus_features_2.ipynb\" target=\"_parent\"><img src=\"https://colab.research.google.com/assets/colab-badge.svg\" alt=\"Open In Colab\"/></a>"
      ]
    },
    {
      "cell_type": "code",
      "metadata": {
        "colab": {
          "base_uri": "https://localhost:8080/"
        },
        "id": "kU3gEU-C8JKr",
        "outputId": "24b6c414-36b5-4b0e-ec72-d8cc52853dcc"
      },
      "source": [
        "#only run it when you are on colab\n",
        "from google.colab import drive\n",
        "drive.mount('/content/drive')\n",
        "\n",
        "%cd /content/drive/MyDrive/CS60075-Team28-Task-1"
      ],
      "execution_count": null,
      "outputs": [
        {
          "output_type": "stream",
          "text": [
            "Drive already mounted at /content/drive; to attempt to forcibly remount, call drive.mount(\"/content/drive\", force_remount=True).\n",
            "/content/drive/MyDrive/CS60075-Team28-Task-1\n"
          ],
          "name": "stdout"
        }
      ]
    },
    {
      "cell_type": "markdown",
      "metadata": {
        "id": "vBRL-BDm8NlC"
      },
      "source": [
        "**Generate top x frequent words list from sorted corpus as per frequency**"
      ]
    },
    {
      "cell_type": "code",
      "metadata": {
        "colab": {
          "base_uri": "https://localhost:8080/"
        },
        "id": "SkbF-CKLqMO3",
        "outputId": "b2f5688f-2988-4e2c-fed4-d2e3955d21fa"
      },
      "source": [
        "import nltk\n",
        "from nltk.stem import WordNetLemmatizer\n",
        "nltk.download('wordnet')\n",
        "lemmatizer = WordNetLemmatizer()\n",
        "def lemmatize(x):\n",
        "    return lemmatizer.lemmatize(x)"
      ],
      "execution_count": 31,
      "outputs": [
        {
          "output_type": "stream",
          "text": [
            "[nltk_data] Downloading package wordnet to /root/nltk_data...\n",
            "[nltk_data]   Package wordnet is already up-to-date!\n"
          ],
          "name": "stdout"
        }
      ]
    },
    {
      "cell_type": "code",
      "metadata": {
        "id": "f5qiNjSw7n5x"
      },
      "source": [
        "import os \n",
        "import pandas as pd\n",
        "\n",
        "def add_single_feature(file,top_bible,top_subtitles,top_biomedical,top_wiki) :\n",
        "  df = pd.read_csv(\"data/preprocessed/\" +file )\n",
        "\n",
        "  ###############biomedical###########################\n",
        "\n",
        "  top_word = []\n",
        "  f = open(\"data/sorted/biomedical_sorted.txt\",'r')\n",
        "  for i in range(top_biomedical) :\n",
        "    line = f.readline()\n",
        "    word = line.split()[1]\n",
        "    top_word.append(word)\n",
        "  top_word = set(top_word)\n",
        "  ans = []\n",
        "  for i in range(len(df)) :\n",
        "    word  = df.at[i,\"token\"]\n",
        "    if type(word) is not str :\n",
        "      ans.append(0)\n",
        "    else :\n",
        "      if word in top_word :\n",
        "        ans.append(0)\n",
        "      else :\n",
        "        ans.append(1)\n",
        "  df['biomedical'] = ans\n",
        "\n",
        "  ###############biomedical###########################\n",
        "\n",
        "  ###############bible###########################\n",
        "\n",
        "  top_word = []\n",
        "  f = open(\"data/sorted/bible_sorted.txt\",'r')\n",
        "  for i in range(top_bible) :\n",
        "    line = f.readline()\n",
        "    word = line.split()[1]\n",
        "    top_word.append(word)\n",
        "  top_word = set(top_word)\n",
        "  ans = []\n",
        "  for i in range(len(df)) :\n",
        "    word  = df.at[i,\"token\"]\n",
        "    if type(word) is not str :\n",
        "      ans.append(0)\n",
        "    else :\n",
        "      if word in top_word :\n",
        "        ans.append(0)\n",
        "      else :\n",
        "        ans.append(1)\n",
        "  df['bible'] = ans\n",
        "\n",
        "  ###############bible###########################\n",
        "\n",
        "  ###############subtitles###########################\n",
        "\n",
        "  top_word = []\n",
        "  f = open(\"data/sorted/subtitles_sorted.txt\",'r')\n",
        "  for i in range(top_subtitles) :\n",
        "    line = f.readline()\n",
        "    word = line.split()[1]\n",
        "    top_word.append(word)\n",
        "  top_word = set(top_word)\n",
        "  ans = []\n",
        "  for i in range(len(df)) :\n",
        "    word  = df.at[i,\"token\"]\n",
        "    if type(word) is not str :\n",
        "      ans.append(0)\n",
        "    else :\n",
        "      if word in top_word :\n",
        "        ans.append(0)\n",
        "      else :\n",
        "        ans.append(1)\n",
        "  df['subtitles'] = ans\n",
        "\n",
        "  ###############subtitles###########################\n",
        "\n",
        "\n",
        "  ###############wiki###########################\n",
        "\n",
        "  top_word = []\n",
        "  f = open(\"data/sorted/wiki_sorted.txt\",'r')\n",
        "  for i in range(top_wiki) :\n",
        "    line = f.readline()\n",
        "    word = line.split()[1]\n",
        "    top_word.append(word)\n",
        "  top_word = set(top_word)\n",
        "  ans = []\n",
        "  for i in range(len(df)) :\n",
        "    word  = df.at[i,\"token\"]\n",
        "    if type(word) is not str :\n",
        "      ans.append(0)\n",
        "    else :\n",
        "      if word in top_word :\n",
        "        ans.append(0)\n",
        "      else :\n",
        "        ans.append(1)\n",
        "  df['wiki'] = ans\n",
        "\n",
        "  ###############wiki###########################\n",
        "\n",
        "  ###############familarity###########################\n",
        "\n",
        "  familarity = {}\n",
        "  f = open(\"data/MRC/familarity.txt\",'r')\n",
        "  for line in f :\n",
        "    word,fam = line.split()[0],int(line.split()[1])\n",
        "    familarity[lemmatize(word.lower())] = fam\n",
        "  ans = []\n",
        "  for i in range(len(df)) :\n",
        "    word  = df.at[i,\"token\"]\n",
        "    if word in familarity :\n",
        "      ans.append(familarity[word])\n",
        "    else :\n",
        "      ans.append(0)\n",
        "\n",
        "  df['familarity'] = ans\n",
        "\n",
        "  ###############familarity###########################\n",
        "\n",
        "  df.to_csv(\"data/added_corpus_presence/\"+file,index = False)"
      ],
      "execution_count": 32,
      "outputs": []
    },
    {
      "cell_type": "code",
      "metadata": {
        "id": "kgTPvlBR78PN"
      },
      "source": [
        "top_bible,top_subtitles,top_biomedical,top_wiki = 1158,1000,544,6368\n",
        "\n",
        "add_single_feature(\"lcp_single_test_preprocessed.csv\", top_bible,top_subtitles,top_biomedical,top_wiki)\n",
        "add_single_feature(\"lcp_single_train_preprocessed.csv\", top_bible,top_subtitles,top_biomedical,top_wiki)"
      ],
      "execution_count": 33,
      "outputs": []
    },
    {
      "cell_type": "code",
      "metadata": {
        "id": "-FuYC-Fk73aN"
      },
      "source": [
        "import os \n",
        "import pandas as pd\n",
        "\n",
        "def add_multi_feature(file,top_bible,top_subtitles,top_biomedical,top_wiki) :\n",
        "  df = pd.read_csv(\"data/preprocessed/\" +file )\n",
        "\n",
        "  ###############biomedical###########################\n",
        "\n",
        "  top_word = []\n",
        "  f = open(\"data/sorted/biomedical_sorted.txt\",'r')\n",
        "  for i in range(top_biomedical) :\n",
        "    line = f.readline()\n",
        "    word = line.split()[1]\n",
        "    top_word.append(word)\n",
        "  top_word = set(top_word)\n",
        "  ans = []\n",
        "  for i in range(len(df)) :\n",
        "    word1,word2  = df.at[i,\"token\"].split()\n",
        "\n",
        "    if word1 in top_word and word2 in top_word :\n",
        "      ans.append(0)\n",
        "    else :\n",
        "      ans.append(1)\n",
        "  df['biomedical'] = ans\n",
        "\n",
        "  ###############biomedical###########################\n",
        "\n",
        "  ###############bible###########################\n",
        "\n",
        "  top_word = []\n",
        "  f = open(\"data/sorted/bible_sorted.txt\",'r')\n",
        "  for i in range(top_bible) :\n",
        "    line = f.readline()\n",
        "    word = line.split()[1]\n",
        "    top_word.append(word)\n",
        "  top_word = set(top_word)\n",
        "  ans = []\n",
        "  for i in range(len(df)) :\n",
        "    word1,word2  = df.at[i,\"token\"].split()\n",
        "\n",
        "    if word1 in top_word and word2 in top_word :\n",
        "      ans.append(0)\n",
        "    else :\n",
        "      ans.append(1)\n",
        "  df['bible'] = ans\n",
        "\n",
        "  ###############bible###########################\n",
        "\n",
        "  ###############subtitles###########################\n",
        "\n",
        "  top_word = []\n",
        "  f = open(\"data/sorted/subtitles_sorted.txt\",'r')\n",
        "  for i in range(top_subtitles) :\n",
        "    line = f.readline()\n",
        "    word = line.split()[1]\n",
        "    top_word.append(word)\n",
        "  top_word = set(top_word)\n",
        "  ans = []\n",
        "  for i in range(len(df)) :\n",
        "    word1,word2  = df.at[i,\"token\"].split()\n",
        "\n",
        "    if word1 in top_word and word2 in top_word :\n",
        "      ans.append(0)\n",
        "    else :\n",
        "      ans.append(1)\n",
        "  df['subtitles'] = ans\n",
        "\n",
        "  ###############subtitles###########################\n",
        "\n",
        "\n",
        "  ###############wiki###########################\n",
        "\n",
        "  top_word = []\n",
        "  f = open(\"data/sorted/wiki_sorted.txt\",'r')\n",
        "  for i in range(top_wiki) :\n",
        "    line = f.readline()\n",
        "    word = line.split()[1]\n",
        "    top_word.append(word)\n",
        "  top_word = set(top_word)\n",
        "  ans = []\n",
        "  for i in range(len(df)) :\n",
        "    word1,word2  = df.at[i,\"token\"].split()\n",
        "\n",
        "    if word1 in top_word and word2 in top_word :\n",
        "      ans.append(0)\n",
        "    else :\n",
        "      ans.append(1)\n",
        "  df['wiki'] = ans\n",
        "\n",
        "  ###############wiki###########################\n",
        "\n",
        "  ###############familarity###########################\n",
        "\n",
        "  familarity = {}\n",
        "  f = open(\"data/MRC/familarity.txt\",'r')\n",
        "  for line in f :\n",
        "    word,fam = line.split()[0],int(line.split()[1])\n",
        "    familarity[lemmatize(word.lower())] = fam\n",
        "    \n",
        "  ans = []\n",
        "  for i in range(len(df)) :\n",
        "    word1,word2  = df.at[i,\"token\"].split()\n",
        "    now = 0\n",
        "    if word1 in familarity :\n",
        "      now+=familarity[word1]\n",
        "    if word2 in familarity :\n",
        "      now+=familarity[word2]\n",
        "    ans.append(now/2)\n",
        "\n",
        "  df['familarity'] = ans\n",
        "\n",
        "  ###############familarity###########################\n",
        "\n",
        "  df.to_csv(\"data/added_corpus_presence/\"+file,index = False)"
      ],
      "execution_count": 34,
      "outputs": []
    },
    {
      "cell_type": "code",
      "metadata": {
        "id": "1uwUAcS68n-4"
      },
      "source": [
        "top_bible,top_subtitles,top_biomedical,top_wiki = 1158,1000,544,6368\n",
        "\n",
        "add_multi_feature(\"lcp_multi_train_preprocessed.csv\", top_bible,top_subtitles,top_biomedical,top_wiki)\n",
        "add_multi_feature(\"lcp_multi_test_preprocessed.csv\", top_bible,top_subtitles,top_biomedical,top_wiki)"
      ],
      "execution_count": 35,
      "outputs": []
    },
    {
      "cell_type": "code",
      "metadata": {
        "id": "CK4RAHto9Ifq"
      },
      "source": [
        ""
      ],
      "execution_count": null,
      "outputs": []
    }
  ]
}