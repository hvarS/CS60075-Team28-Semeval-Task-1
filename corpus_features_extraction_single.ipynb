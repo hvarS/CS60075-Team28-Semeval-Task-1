{
  "nbformat": 4,
  "nbformat_minor": 0,
  "metadata": {
    "colab": {
      "name": "Untitled7.ipynb",
      "provenance": [],
      "collapsed_sections": []
    },
    "kernelspec": {
      "display_name": "Python 3",
      "name": "python3"
    },
    "language_info": {
      "name": "python"
    }
  },
  "cells": [
    {
      "cell_type": "code",
      "metadata": {
        "id": "Ebzf0kDHqTzy",
        "colab": {
          "base_uri": "https://localhost:8080/"
        },
        "outputId": "22857555-0211-4f19-821d-f746cd91b6ac"
      },
      "source": [
        "# clone the repo in the format given below by entering username and password\n",
        "!git clone https:/username:password@github.com/hvarS/CS60075-Team28-Task-1.git"
      ],
      "execution_count": 1,
      "outputs": [
        {
          "output_type": "stream",
          "text": [
            "Cloning into 'CS60075-Team28-Task-1'...\n",
            "remote: Enumerating objects: 284, done.\u001b[K\n",
            "remote: Counting objects: 100% (284/284), done.\u001b[K\n",
            "remote: Compressing objects: 100% (217/217), done.\u001b[K\n",
            "remote: Total 284 (delta 148), reused 172 (delta 62), pack-reused 0\u001b[K\n",
            "Receiving objects: 100% (284/284), 12.39 MiB | 14.53 MiB/s, done.\n",
            "Resolving deltas: 100% (148/148), done.\n"
          ],
          "name": "stdout"
        }
      ]
    },
    {
      "cell_type": "code",
      "metadata": {
        "colab": {
          "base_uri": "https://localhost:8080/"
        },
        "id": "GTkgqyyHyB9q",
        "outputId": "ec403408-4d19-4a62-e963-952610de8a36"
      },
      "source": [
        "import pandas as pd\n",
        "import numpy\n",
        "!pip install python-datamuse\n",
        "!pip install stanza\n",
        "\n",
        "import stanza\n",
        "\n",
        "corenlp_dir = './corenlp'\n",
        "stanza.install_corenlp(dir=corenlp_dir)\n",
        "\n",
        "# Set the CORENLP_HOME environment variable to point to the installation location\n",
        "import os\n",
        "os.environ[\"CORENLP_HOME\"] = corenlp_dir\n",
        "!ls $CORENLP_HOME\n",
        "\n",
        "\n",
        "!pip install nltk"
      ],
      "execution_count": null,
      "outputs": [
        {
          "output_type": "stream",
          "text": [
            "Collecting python-datamuse\n",
            "  Downloading https://files.pythonhosted.org/packages/01/23/7f6db9d7a2cf3348106bd2eaa5cf84f34fc640227c7f64ff0241f756375a/python-datamuse-1.3.0.tar.gz\n",
            "Requirement already satisfied: requests in /usr/local/lib/python3.7/dist-packages (from python-datamuse) (2.23.0)\n",
            "Requirement already satisfied: idna<3,>=2.5 in /usr/local/lib/python3.7/dist-packages (from requests->python-datamuse) (2.10)\n",
            "Requirement already satisfied: certifi>=2017.4.17 in /usr/local/lib/python3.7/dist-packages (from requests->python-datamuse) (2020.12.5)\n",
            "Requirement already satisfied: chardet<4,>=3.0.2 in /usr/local/lib/python3.7/dist-packages (from requests->python-datamuse) (3.0.4)\n",
            "Requirement already satisfied: urllib3!=1.25.0,!=1.25.1,<1.26,>=1.21.1 in /usr/local/lib/python3.7/dist-packages (from requests->python-datamuse) (1.24.3)\n",
            "Building wheels for collected packages: python-datamuse\n",
            "  Building wheel for python-datamuse (setup.py) ... \u001b[?25l\u001b[?25hdone\n",
            "  Created wheel for python-datamuse: filename=python_datamuse-1.3.0-cp37-none-any.whl size=4477 sha256=650e89b9384912173de1f523b9fb57753028324e1af728197ada4ecb193ed9d9\n",
            "  Stored in directory: /root/.cache/pip/wheels/29/03/80/d8f9fd80e72813c3559f6a37ffa6d9fdda6116d56a99011ded\n",
            "Successfully built python-datamuse\n",
            "Installing collected packages: python-datamuse\n",
            "Successfully installed python-datamuse-1.3.0\n",
            "Collecting stanza\n",
            "\u001b[?25l  Downloading https://files.pythonhosted.org/packages/50/ae/a70a58ce6b4e2daad538688806ee0f238dbe601954582a74ea57cde6c532/stanza-1.2-py3-none-any.whl (282kB)\n",
            "\u001b[K     |████████████████████████████████| 286kB 18.5MB/s \n",
            "\u001b[?25hRequirement already satisfied: numpy in /usr/local/lib/python3.7/dist-packages (from stanza) (1.19.5)\n",
            "Requirement already satisfied: protobuf in /usr/local/lib/python3.7/dist-packages (from stanza) (3.12.4)\n",
            "Requirement already satisfied: tqdm in /usr/local/lib/python3.7/dist-packages (from stanza) (4.41.1)\n",
            "Requirement already satisfied: requests in /usr/local/lib/python3.7/dist-packages (from stanza) (2.23.0)\n",
            "Requirement already satisfied: torch>=1.3.0 in /usr/local/lib/python3.7/dist-packages (from stanza) (1.8.1+cu101)\n",
            "Requirement already satisfied: setuptools in /usr/local/lib/python3.7/dist-packages (from protobuf->stanza) (54.2.0)\n",
            "Requirement already satisfied: six>=1.9 in /usr/local/lib/python3.7/dist-packages (from protobuf->stanza) (1.15.0)\n",
            "Requirement already satisfied: idna<3,>=2.5 in /usr/local/lib/python3.7/dist-packages (from requests->stanza) (2.10)\n",
            "Requirement already satisfied: certifi>=2017.4.17 in /usr/local/lib/python3.7/dist-packages (from requests->stanza) (2020.12.5)\n",
            "Requirement already satisfied: chardet<4,>=3.0.2 in /usr/local/lib/python3.7/dist-packages (from requests->stanza) (3.0.4)\n",
            "Requirement already satisfied: urllib3!=1.25.0,!=1.25.1,<1.26,>=1.21.1 in /usr/local/lib/python3.7/dist-packages (from requests->stanza) (1.24.3)\n",
            "Requirement already satisfied: typing-extensions in /usr/local/lib/python3.7/dist-packages (from torch>=1.3.0->stanza) (3.7.4.3)\n",
            "Installing collected packages: stanza\n",
            "Successfully installed stanza-1.2\n"
          ],
          "name": "stdout"
        },
        {
          "output_type": "stream",
          "text": [
            "2021-04-07 23:24:16 INFO: Installing CoreNLP package into ./corenlp...\n",
            "Downloading http://nlp.stanford.edu/software/stanford-corenlp-latest.zip: 100%|██████████| 505M/505M [01:33<00:00, 5.39MB/s]\n",
            "2021-04-07 23:25:53 WARNING: For customized installation location, please set the `CORENLP_HOME` environment variable to the location of the installation. In Unix, this is done with `export CORENLP_HOME=./corenlp`.\n"
          ],
          "name": "stderr"
        },
        {
          "output_type": "stream",
          "text": [
            "build.xml\t\t\t\t  jollyday.jar\n",
            "corenlp.sh\t\t\t\t  LIBRARY-LICENSES\n",
            "CoreNLP-to-HTML.xsl\t\t\t  LICENSE.txt\n",
            "ejml-core-0.39.jar\t\t\t  Makefile\n",
            "ejml-core-0.39-sources.jar\t\t  patterns\n",
            "ejml-ddense-0.39.jar\t\t\t  pom-java-11.xml\n",
            "ejml-ddense-0.39-sources.jar\t\t  pom.xml\n",
            "ejml-simple-0.39.jar\t\t\t  protobuf.jar\n",
            "ejml-simple-0.39-sources.jar\t\t  README.txt\n",
            "input.txt\t\t\t\t  RESOURCE-LICENSES\n",
            "input.txt.out\t\t\t\t  SemgrexDemo.java\n",
            "input.txt.xml\t\t\t\t  ShiftReduceDemo.java\n",
            "javax.activation-api-1.2.0.jar\t\t  slf4j-api.jar\n",
            "javax.activation-api-1.2.0-sources.jar\t  slf4j-simple.jar\n",
            "javax.json-api-1.0-sources.jar\t\t  stanford-corenlp-4.2.0.jar\n",
            "javax.json.jar\t\t\t\t  stanford-corenlp-4.2.0-javadoc.jar\n",
            "jaxb-api-2.4.0-b180830.0359.jar\t\t  stanford-corenlp-4.2.0-models.jar\n",
            "jaxb-api-2.4.0-b180830.0359-sources.jar   stanford-corenlp-4.2.0-sources.jar\n",
            "jaxb-core-2.3.0.1.jar\t\t\t  StanfordCoreNlpDemo.java\n",
            "jaxb-core-2.3.0.1-sources.jar\t\t  StanfordDependenciesManual.pdf\n",
            "jaxb-impl-2.4.0-b180830.0438.jar\t  sutime\n",
            "jaxb-impl-2.4.0-b180830.0438-sources.jar  tokensregex\n",
            "joda-time-2.10.5-sources.jar\t\t  xom-1.3.2-sources.jar\n",
            "joda-time.jar\t\t\t\t  xom.jar\n",
            "jollyday-0.4.9-sources.jar\n",
            "Requirement already satisfied: nltk in /usr/local/lib/python3.7/dist-packages (3.2.5)\n",
            "Requirement already satisfied: six in /usr/local/lib/python3.7/dist-packages (from nltk) (1.15.0)\n"
          ],
          "name": "stdout"
        }
      ]
    },
    {
      "cell_type": "code",
      "metadata": {
        "colab": {
          "base_uri": "https://localhost:8080/"
        },
        "id": "yJVTKSIz0QaD",
        "outputId": "7cac0f86-77d3-49f9-8e28-4dfa88476db5"
      },
      "source": [
        "from google.colab import drive\n",
        "drive.mount('/content/drive')"
      ],
      "execution_count": null,
      "outputs": [
        {
          "output_type": "stream",
          "text": [
            "Drive already mounted at /content/drive; to attempt to forcibly remount, call drive.mount(\"/content/drive\", force_remount=True).\n"
          ],
          "name": "stdout"
        }
      ]
    },
    {
      "cell_type": "code",
      "metadata": {
        "colab": {
          "base_uri": "https://localhost:8080/",
          "height": 204
        },
        "id": "cE7VEMZT0qGC",
        "outputId": "876fccc2-f6b1-4ca4-8f91-dd72eef979e5"
      },
      "source": [
        "import pandas as pd\n",
        "\n",
        "basepath = '/content/CS60075-Team28-Task-1/data/preprocessed/lcp_single_train_preprocessed.csv'\n",
        "# basepath = '/content/drive/MyDrive/CS60075-Team28-Task-1/data/preprocessed/lcp_single_test_preprocessed.csv'\n",
        "\n",
        "# basepath = '/content/drive/MyDrive/CS60075-Team28-Task-1/data/preprocessed/lcp_multi_train_preprocessed.csv'\n",
        "# basepath = '/content/drive/MyDrive/CS60075-Team28-Task-1/data/preprocessed/lcp_multi_test_preprocessed.csv'\n",
        "\n",
        "\n",
        "df = pd.read_csv(basepath)\n",
        "df.head()"
      ],
      "execution_count": 2,
      "outputs": [
        {
          "output_type": "execute_result",
          "data": {
            "text/html": [
              "<div>\n",
              "<style scoped>\n",
              "    .dataframe tbody tr th:only-of-type {\n",
              "        vertical-align: middle;\n",
              "    }\n",
              "\n",
              "    .dataframe tbody tr th {\n",
              "        vertical-align: top;\n",
              "    }\n",
              "\n",
              "    .dataframe thead th {\n",
              "        text-align: right;\n",
              "    }\n",
              "</style>\n",
              "<table border=\"1\" class=\"dataframe\">\n",
              "  <thead>\n",
              "    <tr style=\"text-align: right;\">\n",
              "      <th></th>\n",
              "      <th>id</th>\n",
              "      <th>corpus</th>\n",
              "      <th>sentence</th>\n",
              "      <th>token</th>\n",
              "      <th>complexity</th>\n",
              "    </tr>\n",
              "  </thead>\n",
              "  <tbody>\n",
              "    <tr>\n",
              "      <th>0</th>\n",
              "      <td>3ZLW647WALVGE8EBR50EGUBPU4P32A</td>\n",
              "      <td>bible</td>\n",
              "      <td>behold came river seven cattle sleek fat fed m...</td>\n",
              "      <td>river</td>\n",
              "      <td>0.000000</td>\n",
              "    </tr>\n",
              "    <tr>\n",
              "      <th>1</th>\n",
              "      <td>34R0BODSP1ZBN3DVY8J8XSIY551E5C</td>\n",
              "      <td>bible</td>\n",
              "      <td>fellow bondservant brother prophet keep word book</td>\n",
              "      <td>brother</td>\n",
              "      <td>0.000000</td>\n",
              "    </tr>\n",
              "    <tr>\n",
              "      <th>2</th>\n",
              "      <td>3S1WOPCJFGTJU2SGNAN2Y213N6WJE3</td>\n",
              "      <td>bible</td>\n",
              "      <td>man lord land said u know honest men leave one...</td>\n",
              "      <td>brother</td>\n",
              "      <td>0.050000</td>\n",
              "    </tr>\n",
              "    <tr>\n",
              "      <th>3</th>\n",
              "      <td>3BFNCI9LYKQN09BHXHH9CLSX5KP738</td>\n",
              "      <td>bible</td>\n",
              "      <td>shimei sixteen son six daughter brother didnt ...</td>\n",
              "      <td>brother</td>\n",
              "      <td>0.150000</td>\n",
              "    </tr>\n",
              "    <tr>\n",
              "      <th>4</th>\n",
              "      <td>3G5RUKN2EC3YIWSKUXZ8ZVH95R49N2</td>\n",
              "      <td>bible</td>\n",
              "      <td>put brother far</td>\n",
              "      <td>brother</td>\n",
              "      <td>0.263889</td>\n",
              "    </tr>\n",
              "  </tbody>\n",
              "</table>\n",
              "</div>"
            ],
            "text/plain": [
              "                               id corpus  ...    token complexity\n",
              "0  3ZLW647WALVGE8EBR50EGUBPU4P32A  bible  ...    river   0.000000\n",
              "1  34R0BODSP1ZBN3DVY8J8XSIY551E5C  bible  ...  brother   0.000000\n",
              "2  3S1WOPCJFGTJU2SGNAN2Y213N6WJE3  bible  ...  brother   0.050000\n",
              "3  3BFNCI9LYKQN09BHXHH9CLSX5KP738  bible  ...  brother   0.150000\n",
              "4  3G5RUKN2EC3YIWSKUXZ8ZVH95R49N2  bible  ...  brother   0.263889\n",
              "\n",
              "[5 rows x 5 columns]"
            ]
          },
          "metadata": {
            "tags": []
          },
          "execution_count": 2
        }
      ]
    },
    {
      "cell_type": "code",
      "metadata": {
        "colab": {
          "base_uri": "https://localhost:8080/"
        },
        "id": "LRR5eKZmLph0",
        "outputId": "91e49fd4-bed3-44e8-e5be-d5b2c8b36d1f"
      },
      "source": [
        "df.dtypes"
      ],
      "execution_count": null,
      "outputs": [
        {
          "output_type": "execute_result",
          "data": {
            "text/plain": [
              "id          object\n",
              "corpus      object\n",
              "sentence    object\n",
              "token       object\n",
              "dtype: object"
            ]
          },
          "metadata": {
            "tags": []
          },
          "execution_count": 4
        }
      ]
    },
    {
      "cell_type": "code",
      "metadata": {
        "colab": {
          "base_uri": "https://localhost:8080/",
          "height": 194
        },
        "id": "VIpnRuT01uMo",
        "outputId": "d7f12d46-0cc8-40d1-fb3f-702bb55dd9e8"
      },
      "source": [
        "df['split'] = df['token'].apply(lambda x: x.split())\n",
        "df['token_length'] = df['token'].str.len()\n",
        "df.head()"
      ],
      "execution_count": null,
      "outputs": [
        {
          "output_type": "execute_result",
          "data": {
            "text/html": [
              "<div>\n",
              "<style scoped>\n",
              "    .dataframe tbody tr th:only-of-type {\n",
              "        vertical-align: middle;\n",
              "    }\n",
              "\n",
              "    .dataframe tbody tr th {\n",
              "        vertical-align: top;\n",
              "    }\n",
              "\n",
              "    .dataframe thead th {\n",
              "        text-align: right;\n",
              "    }\n",
              "</style>\n",
              "<table border=\"1\" class=\"dataframe\">\n",
              "  <thead>\n",
              "    <tr style=\"text-align: right;\">\n",
              "      <th></th>\n",
              "      <th>id</th>\n",
              "      <th>corpus</th>\n",
              "      <th>sentence</th>\n",
              "      <th>token</th>\n",
              "      <th>split</th>\n",
              "      <th>token_length</th>\n",
              "    </tr>\n",
              "  </thead>\n",
              "  <tbody>\n",
              "    <tr>\n",
              "      <th>0</th>\n",
              "      <td>3A9LA2FRWSEW9WO7UFA9AE6VQK3XHL</td>\n",
              "      <td>bible</td>\n",
              "      <td>come intending bring bound chief priest</td>\n",
              "      <td>chief priest</td>\n",
              "      <td>[chief, priest]</td>\n",
              "      <td>12</td>\n",
              "    </tr>\n",
              "    <tr>\n",
              "      <th>1</th>\n",
              "      <td>302U8RURJZ1WF35NXY44RD66WL4NVH</td>\n",
              "      <td>bible</td>\n",
              "      <td>day lord take away beauty anklet headband cres...</td>\n",
              "      <td>crescent necklace</td>\n",
              "      <td>[crescent, necklace]</td>\n",
              "      <td>17</td>\n",
              "    </tr>\n",
              "    <tr>\n",
              "      <th>2</th>\n",
              "      <td>3UDTAB6HH6ZVX00DTRXAOJLWX0B094</td>\n",
              "      <td>bible</td>\n",
              "      <td>unclean shall take ash burning sin offering ru...</td>\n",
              "      <td>sin offering</td>\n",
              "      <td>[sin, offering]</td>\n",
              "      <td>12</td>\n",
              "    </tr>\n",
              "    <tr>\n",
              "      <th>3</th>\n",
              "      <td>3L2OEKSTW9ASGQDOW725GFK5P77Y8D</td>\n",
              "      <td>bible</td>\n",
              "      <td>precious treasure oil dwelling wise foolish ma...</td>\n",
              "      <td>precious treasure</td>\n",
              "      <td>[precious, treasure]</td>\n",
              "      <td>17</td>\n",
              "    </tr>\n",
              "    <tr>\n",
              "      <th>4</th>\n",
              "      <td>39N6W9XWRDN795J6F5ET8S13DQKYGT</td>\n",
              "      <td>bible</td>\n",
              "      <td>long god shall adversary reproach</td>\n",
              "      <td>adversary reproach</td>\n",
              "      <td>[adversary, reproach]</td>\n",
              "      <td>18</td>\n",
              "    </tr>\n",
              "  </tbody>\n",
              "</table>\n",
              "</div>"
            ],
            "text/plain": [
              "                               id corpus  ...                  split token_length\n",
              "0  3A9LA2FRWSEW9WO7UFA9AE6VQK3XHL  bible  ...        [chief, priest]           12\n",
              "1  302U8RURJZ1WF35NXY44RD66WL4NVH  bible  ...   [crescent, necklace]           17\n",
              "2  3UDTAB6HH6ZVX00DTRXAOJLWX0B094  bible  ...        [sin, offering]           12\n",
              "3  3L2OEKSTW9ASGQDOW725GFK5P77Y8D  bible  ...   [precious, treasure]           17\n",
              "4  39N6W9XWRDN795J6F5ET8S13DQKYGT  bible  ...  [adversary, reproach]           18\n",
              "\n",
              "[5 rows x 6 columns]"
            ]
          },
          "metadata": {
            "tags": []
          },
          "execution_count": 5
        }
      ]
    },
    {
      "cell_type": "code",
      "metadata": {
        "id": "NF4vH87cKYRe",
        "colab": {
          "base_uri": "https://localhost:8080/",
          "height": 194
        },
        "outputId": "e7164c64-dbe0-4e04-d0c8-d239165974e7"
      },
      "source": [
        "#function to obtain syablles for words\n",
        "from datamuse import datamuse\n",
        "api = datamuse.Datamuse()\n",
        "\n",
        "def get_syllables(word):\n",
        "    syllables = 0\n",
        "    word_results = api.words(sp=word, max=1, md='psf')\n",
        "    if len(word_results)>0: \n",
        "        word = word_results[0][\"word\"]\n",
        "        syllables = int(word_results[0][\"numSyllables\"])\n",
        "    return syllables\n",
        "\n",
        "#Apply function to get syllables in the token\n",
        "df['syllables'] = df['token'].apply(lambda x: get_syllables(x) )\n",
        "df.head()"
      ],
      "execution_count": null,
      "outputs": [
        {
          "output_type": "execute_result",
          "data": {
            "text/html": [
              "<div>\n",
              "<style scoped>\n",
              "    .dataframe tbody tr th:only-of-type {\n",
              "        vertical-align: middle;\n",
              "    }\n",
              "\n",
              "    .dataframe tbody tr th {\n",
              "        vertical-align: top;\n",
              "    }\n",
              "\n",
              "    .dataframe thead th {\n",
              "        text-align: right;\n",
              "    }\n",
              "</style>\n",
              "<table border=\"1\" class=\"dataframe\">\n",
              "  <thead>\n",
              "    <tr style=\"text-align: right;\">\n",
              "      <th></th>\n",
              "      <th>id</th>\n",
              "      <th>corpus</th>\n",
              "      <th>sentence</th>\n",
              "      <th>token</th>\n",
              "      <th>split</th>\n",
              "      <th>token_length</th>\n",
              "      <th>syllables</th>\n",
              "    </tr>\n",
              "  </thead>\n",
              "  <tbody>\n",
              "    <tr>\n",
              "      <th>0</th>\n",
              "      <td>3A9LA2FRWSEW9WO7UFA9AE6VQK3XHL</td>\n",
              "      <td>bible</td>\n",
              "      <td>come intending bring bound chief priest</td>\n",
              "      <td>chief priest</td>\n",
              "      <td>[chief, priest]</td>\n",
              "      <td>12</td>\n",
              "      <td>2</td>\n",
              "    </tr>\n",
              "    <tr>\n",
              "      <th>1</th>\n",
              "      <td>302U8RURJZ1WF35NXY44RD66WL4NVH</td>\n",
              "      <td>bible</td>\n",
              "      <td>day lord take away beauty anklet headband cres...</td>\n",
              "      <td>crescent necklace</td>\n",
              "      <td>[crescent, necklace]</td>\n",
              "      <td>17</td>\n",
              "      <td>0</td>\n",
              "    </tr>\n",
              "    <tr>\n",
              "      <th>2</th>\n",
              "      <td>3UDTAB6HH6ZVX00DTRXAOJLWX0B094</td>\n",
              "      <td>bible</td>\n",
              "      <td>unclean shall take ash burning sin offering ru...</td>\n",
              "      <td>sin offering</td>\n",
              "      <td>[sin, offering]</td>\n",
              "      <td>12</td>\n",
              "      <td>4</td>\n",
              "    </tr>\n",
              "    <tr>\n",
              "      <th>3</th>\n",
              "      <td>3L2OEKSTW9ASGQDOW725GFK5P77Y8D</td>\n",
              "      <td>bible</td>\n",
              "      <td>precious treasure oil dwelling wise foolish ma...</td>\n",
              "      <td>precious treasure</td>\n",
              "      <td>[precious, treasure]</td>\n",
              "      <td>17</td>\n",
              "      <td>0</td>\n",
              "    </tr>\n",
              "    <tr>\n",
              "      <th>4</th>\n",
              "      <td>39N6W9XWRDN795J6F5ET8S13DQKYGT</td>\n",
              "      <td>bible</td>\n",
              "      <td>long god shall adversary reproach</td>\n",
              "      <td>adversary reproach</td>\n",
              "      <td>[adversary, reproach]</td>\n",
              "      <td>18</td>\n",
              "      <td>0</td>\n",
              "    </tr>\n",
              "  </tbody>\n",
              "</table>\n",
              "</div>"
            ],
            "text/plain": [
              "                               id corpus  ... token_length syllables\n",
              "0  3A9LA2FRWSEW9WO7UFA9AE6VQK3XHL  bible  ...           12         2\n",
              "1  302U8RURJZ1WF35NXY44RD66WL4NVH  bible  ...           17         0\n",
              "2  3UDTAB6HH6ZVX00DTRXAOJLWX0B094  bible  ...           12         4\n",
              "3  3L2OEKSTW9ASGQDOW725GFK5P77Y8D  bible  ...           17         0\n",
              "4  39N6W9XWRDN795J6F5ET8S13DQKYGT  bible  ...           18         0\n",
              "\n",
              "[5 rows x 7 columns]"
            ]
          },
          "metadata": {
            "tags": []
          },
          "execution_count": 6
        }
      ]
    },
    {
      "cell_type": "code",
      "metadata": {
        "id": "R-dYFUXPNhGT",
        "colab": {
          "base_uri": "https://localhost:8080/",
          "height": 194
        },
        "outputId": "00935433-e1f6-4653-d7b3-c56812bccba4"
      },
      "source": [
        "temp = df[['sentence','id']].copy()\n",
        "temp.head()"
      ],
      "execution_count": null,
      "outputs": [
        {
          "output_type": "execute_result",
          "data": {
            "text/html": [
              "<div>\n",
              "<style scoped>\n",
              "    .dataframe tbody tr th:only-of-type {\n",
              "        vertical-align: middle;\n",
              "    }\n",
              "\n",
              "    .dataframe tbody tr th {\n",
              "        vertical-align: top;\n",
              "    }\n",
              "\n",
              "    .dataframe thead th {\n",
              "        text-align: right;\n",
              "    }\n",
              "</style>\n",
              "<table border=\"1\" class=\"dataframe\">\n",
              "  <thead>\n",
              "    <tr style=\"text-align: right;\">\n",
              "      <th></th>\n",
              "      <th>sentence</th>\n",
              "      <th>id</th>\n",
              "    </tr>\n",
              "  </thead>\n",
              "  <tbody>\n",
              "    <tr>\n",
              "      <th>0</th>\n",
              "      <td>come intending bring bound chief priest</td>\n",
              "      <td>3A9LA2FRWSEW9WO7UFA9AE6VQK3XHL</td>\n",
              "    </tr>\n",
              "    <tr>\n",
              "      <th>1</th>\n",
              "      <td>day lord take away beauty anklet headband cres...</td>\n",
              "      <td>302U8RURJZ1WF35NXY44RD66WL4NVH</td>\n",
              "    </tr>\n",
              "    <tr>\n",
              "      <th>2</th>\n",
              "      <td>unclean shall take ash burning sin offering ru...</td>\n",
              "      <td>3UDTAB6HH6ZVX00DTRXAOJLWX0B094</td>\n",
              "    </tr>\n",
              "    <tr>\n",
              "      <th>3</th>\n",
              "      <td>precious treasure oil dwelling wise foolish ma...</td>\n",
              "      <td>3L2OEKSTW9ASGQDOW725GFK5P77Y8D</td>\n",
              "    </tr>\n",
              "    <tr>\n",
              "      <th>4</th>\n",
              "      <td>long god shall adversary reproach</td>\n",
              "      <td>39N6W9XWRDN795J6F5ET8S13DQKYGT</td>\n",
              "    </tr>\n",
              "  </tbody>\n",
              "</table>\n",
              "</div>"
            ],
            "text/plain": [
              "                                            sentence                              id\n",
              "0            come intending bring bound chief priest  3A9LA2FRWSEW9WO7UFA9AE6VQK3XHL\n",
              "1  day lord take away beauty anklet headband cres...  302U8RURJZ1WF35NXY44RD66WL4NVH\n",
              "2  unclean shall take ash burning sin offering ru...  3UDTAB6HH6ZVX00DTRXAOJLWX0B094\n",
              "3  precious treasure oil dwelling wise foolish ma...  3L2OEKSTW9ASGQDOW725GFK5P77Y8D\n",
              "4                  long god shall adversary reproach  39N6W9XWRDN795J6F5ET8S13DQKYGT"
            ]
          },
          "metadata": {
            "tags": []
          },
          "execution_count": 7
        }
      ]
    },
    {
      "cell_type": "code",
      "metadata": {
        "colab": {
          "base_uri": "https://localhost:8080/"
        },
        "id": "TKD915atT45g",
        "outputId": "c435c5c7-8d6d-442f-a025-f5af8ae5c88d"
      },
      "source": [
        "from stanza.server import CoreNLPClient\n",
        "\n",
        "############## uncomment to start the client\n",
        "\n",
        "# Construct a CoreNLPClient with some basic annotators, a memory allocation of 4GB, and port number 9001\n",
        "# Start the background server and wait for some time\n",
        "# Note that in practice this is totally optional, as by default the server will be started when the first annotation is performed\n",
        "\n",
        "\n",
        "\n",
        "\n",
        "client = CoreNLPClient(\n",
        "    annotators=['pos', 'depparse'], \n",
        "    memory='4G', \n",
        "    endpoint='http://localhost:9005',\n",
        "    output_format=\"json\",\n",
        "    be_quiet=True)\n",
        "\n",
        "print(client)\n",
        "client.start()\n",
        "\n",
        "\n",
        "import time; time.sleep(10)\n",
        "\n",
        "def parse(string):\n",
        "    output = client.annotate(string)\n",
        "    return output\n",
        "\n",
        "temp['parse'] = temp['sentence'].apply(lambda x: parse(x))\n",
        "temp['parse'].head()"
      ],
      "execution_count": null,
      "outputs": [
        {
          "output_type": "stream",
          "text": [
            "2021-04-07 23:26:02 INFO: Writing properties to tmp file: corenlp_server-6bb5c9febe6d40fb.props\n",
            "2021-04-07 23:26:02 INFO: Starting server with command: java -Xmx4G -cp ./corenlp/* edu.stanford.nlp.pipeline.StanfordCoreNLPServer -port 9005 -timeout 60000 -threads 5 -maxCharLength 100000 -quiet True -serverProperties corenlp_server-6bb5c9febe6d40fb.props -annotators pos,depparse -preload -outputFormat json\n"
          ],
          "name": "stderr"
        },
        {
          "output_type": "stream",
          "text": [
            "<stanza.server.client.CoreNLPClient object at 0x7f7ef08d1b50>\n"
          ],
          "name": "stdout"
        },
        {
          "output_type": "execute_result",
          "data": {
            "text/plain": [
              "0    {'sentences': [{'index': 0, 'basicDependencies...\n",
              "1    {'sentences': [{'index': 0, 'basicDependencies...\n",
              "2    {'sentences': [{'index': 0, 'basicDependencies...\n",
              "3    {'sentences': [{'index': 0, 'basicDependencies...\n",
              "4    {'sentences': [{'index': 0, 'basicDependencies...\n",
              "Name: parse, dtype: object"
            ]
          },
          "metadata": {
            "tags": []
          },
          "execution_count": 8
        }
      ]
    },
    {
      "cell_type": "code",
      "metadata": {
        "id": "BWZnfOkjm1M7",
        "colab": {
          "base_uri": "https://localhost:8080/"
        },
        "outputId": "a4ec3b83-05f8-4d26-fe03-e6e067d0f2c2"
      },
      "source": [
        "# get pos of the token (here phrase) from the parse constructed by the corenlp client. same for the dependencies\n",
        "import string\n",
        "\n",
        "remove = string.punctuation\n",
        "remove = remove.replace(\"-\", \"\")\n",
        "remove = remove.replace(\"'\", \"\")# don't remove apostraphies \n",
        "remove = remove + '“'\n",
        "remove = remove +'”'\n",
        "def get_pos(row):\n",
        "    # should be token\n",
        "    word = row['token']\n",
        "\n",
        "    parse = row['parse']\n",
        "\n",
        "    # below loop is okay i guess\n",
        "    for i in range(len(parse['sentences'][0]['tokens'])):\n",
        "\n",
        "        comp_word = parse['sentences'][0]['tokens'][i]['word']\n",
        "        comp_word = comp_word.lower()\n",
        "        comp_word = comp_word.translate({ord(char): None for char in remove})\n",
        "\n",
        "        if comp_word == word:\n",
        "            return parse['sentences'][0]['tokens'][i]['pos']\n",
        "\n",
        "def get_dep(row):\n",
        "    number = 0\n",
        "    word = row['token']\n",
        "    parse = row['parse']\n",
        "    for i in range(len(parse['sentences'][0]['basicDependencies'])):\n",
        "        comp_word = parse['sentences'][0]['basicDependencies'][i]['governorGloss']\n",
        "        comp_word = comp_word.lower()\n",
        "        comp_word = comp_word.translate({ord(char): None for char in remove})\n",
        "\n",
        "        if comp_word==word:\n",
        "            number += 1\n",
        "\n",
        "    return number\n",
        "\n",
        "word_parse_features = pd.merge(temp, df)\n",
        "word_parse_features['pos'] = word_parse_features.apply(get_pos, axis=1)\n",
        "word_parse_features['dep num'] = word_parse_features.apply(get_dep, axis=1)\n",
        "word_parse_features.head()"
      ],
      "execution_count": null,
      "outputs": [
        {
          "output_type": "execute_result",
          "data": {
            "text/html": [
              "<div>\n",
              "<style scoped>\n",
              "    .dataframe tbody tr th:only-of-type {\n",
              "        vertical-align: middle;\n",
              "    }\n",
              "\n",
              "    .dataframe tbody tr th {\n",
              "        vertical-align: top;\n",
              "    }\n",
              "\n",
              "    .dataframe thead th {\n",
              "        text-align: right;\n",
              "    }\n",
              "</style>\n",
              "<table border=\"1\" class=\"dataframe\">\n",
              "  <thead>\n",
              "    <tr style=\"text-align: right;\">\n",
              "      <th></th>\n",
              "      <th>sentence</th>\n",
              "      <th>id</th>\n",
              "      <th>parse</th>\n",
              "      <th>corpus</th>\n",
              "      <th>token</th>\n",
              "      <th>split</th>\n",
              "      <th>token_length</th>\n",
              "      <th>syllables</th>\n",
              "      <th>pos</th>\n",
              "      <th>dep num</th>\n",
              "    </tr>\n",
              "  </thead>\n",
              "  <tbody>\n",
              "    <tr>\n",
              "      <th>0</th>\n",
              "      <td>come intending bring bound chief priest</td>\n",
              "      <td>3A9LA2FRWSEW9WO7UFA9AE6VQK3XHL</td>\n",
              "      <td>{'sentences': [{'index': 0, 'basicDependencies...</td>\n",
              "      <td>bible</td>\n",
              "      <td>chief priest</td>\n",
              "      <td>[chief, priest]</td>\n",
              "      <td>12</td>\n",
              "      <td>2</td>\n",
              "      <td>None</td>\n",
              "      <td>0</td>\n",
              "    </tr>\n",
              "    <tr>\n",
              "      <th>1</th>\n",
              "      <td>day lord take away beauty anklet headband cres...</td>\n",
              "      <td>302U8RURJZ1WF35NXY44RD66WL4NVH</td>\n",
              "      <td>{'sentences': [{'index': 0, 'basicDependencies...</td>\n",
              "      <td>bible</td>\n",
              "      <td>crescent necklace</td>\n",
              "      <td>[crescent, necklace]</td>\n",
              "      <td>17</td>\n",
              "      <td>0</td>\n",
              "      <td>None</td>\n",
              "      <td>0</td>\n",
              "    </tr>\n",
              "    <tr>\n",
              "      <th>2</th>\n",
              "      <td>unclean shall take ash burning sin offering ru...</td>\n",
              "      <td>3UDTAB6HH6ZVX00DTRXAOJLWX0B094</td>\n",
              "      <td>{'sentences': [{'index': 0, 'basicDependencies...</td>\n",
              "      <td>bible</td>\n",
              "      <td>sin offering</td>\n",
              "      <td>[sin, offering]</td>\n",
              "      <td>12</td>\n",
              "      <td>4</td>\n",
              "      <td>None</td>\n",
              "      <td>0</td>\n",
              "    </tr>\n",
              "    <tr>\n",
              "      <th>3</th>\n",
              "      <td>precious treasure oil dwelling wise foolish ma...</td>\n",
              "      <td>3L2OEKSTW9ASGQDOW725GFK5P77Y8D</td>\n",
              "      <td>{'sentences': [{'index': 0, 'basicDependencies...</td>\n",
              "      <td>bible</td>\n",
              "      <td>precious treasure</td>\n",
              "      <td>[precious, treasure]</td>\n",
              "      <td>17</td>\n",
              "      <td>0</td>\n",
              "      <td>None</td>\n",
              "      <td>0</td>\n",
              "    </tr>\n",
              "    <tr>\n",
              "      <th>4</th>\n",
              "      <td>long god shall adversary reproach</td>\n",
              "      <td>39N6W9XWRDN795J6F5ET8S13DQKYGT</td>\n",
              "      <td>{'sentences': [{'index': 0, 'basicDependencies...</td>\n",
              "      <td>bible</td>\n",
              "      <td>adversary reproach</td>\n",
              "      <td>[adversary, reproach]</td>\n",
              "      <td>18</td>\n",
              "      <td>0</td>\n",
              "      <td>None</td>\n",
              "      <td>0</td>\n",
              "    </tr>\n",
              "  </tbody>\n",
              "</table>\n",
              "</div>"
            ],
            "text/plain": [
              "                                            sentence  ... dep num\n",
              "0            come intending bring bound chief priest  ...       0\n",
              "1  day lord take away beauty anklet headband cres...  ...       0\n",
              "2  unclean shall take ash burning sin offering ru...  ...       0\n",
              "3  precious treasure oil dwelling wise foolish ma...  ...       0\n",
              "4                  long god shall adversary reproach  ...       0\n",
              "\n",
              "[5 rows x 10 columns]"
            ]
          },
          "metadata": {
            "tags": []
          },
          "execution_count": 9
        }
      ]
    },
    {
      "cell_type": "code",
      "metadata": {
        "id": "iWRW-KjYOrcV"
      },
      "source": [
        "word_parse_features.to_csv('/content/drive/MyDrive/cwi2018_traindevset/1.csv')"
      ],
      "execution_count": null,
      "outputs": []
    },
    {
      "cell_type": "code",
      "metadata": {
        "colab": {
          "base_uri": "https://localhost:8080/"
        },
        "id": "5pihojX3Vp_2",
        "outputId": "d97ac7f6-42c2-4cc2-d314-86783ae0ee1c"
      },
      "source": [
        "import nltk\n",
        "nltk.download('wordnet')\n",
        "from nltk.corpus import wordnet\n",
        "\n",
        "from nltk.stem import WordNetLemmatizer\n",
        "wordnet_lemmatizer = WordNetLemmatizer()"
      ],
      "execution_count": null,
      "outputs": [
        {
          "output_type": "stream",
          "text": [
            "[nltk_data] Downloading package wordnet to /root/nltk_data...\n",
            "[nltk_data]   Unzipping corpora/wordnet.zip.\n"
          ],
          "name": "stdout"
        }
      ]
    },
    {
      "cell_type": "code",
      "metadata": {
        "colab": {
          "base_uri": "https://localhost:8080/"
        },
        "id": "xQ5ghtcgXSiT",
        "outputId": "74858d65-2991-4b21-c03c-2b9bbcb44910"
      },
      "source": [
        "print(wordnet.synsets('room'))"
      ],
      "execution_count": null,
      "outputs": [
        {
          "output_type": "stream",
          "text": [
            "[Synset('room.n.01'), Synset('room.n.02'), Synset('room.n.03'), Synset('room.n.04'), Synset('board.v.02')]\n"
          ],
          "name": "stdout"
        }
      ]
    },
    {
      "cell_type": "code",
      "metadata": {
        "id": "-KwcGTVMKNHb",
        "colab": {
          "base_uri": "https://localhost:8080/"
        },
        "outputId": "b71bf01d-06de-4fd7-fcc5-9a3c249055a0"
      },
      "source": [
        "def get_wordnet_pos(treebank_tag):\n",
        "    # print(treebank_tag)\n",
        "    if treebank_tag.startswith('J'):\n",
        "        return wordnet.ADJ\n",
        "    elif treebank_tag.startswith('V'):\n",
        "        return wordnet.VERB\n",
        "    elif treebank_tag.startswith('N'):\n",
        "        return wordnet.NOUN\n",
        "    elif treebank_tag.startswith('R'):\n",
        "        return wordnet.ADV\n",
        "    else:\n",
        "        return None\n",
        "\n",
        "def lemmatiser(row):\n",
        "\n",
        "    word = row['token']\n",
        "    pos = row['pos']\n",
        "    \n",
        "    # print(word,pos)\n",
        "    try:\n",
        "        lemma = wordnet_lemmatizer.lemmatize(word, pos = get_wordnet_pos(pos))\n",
        "        # lemma = wordnet_lemmatizer.lemmatize(word)\n",
        "        return lemma\n",
        "    except:\n",
        "        try:\n",
        "            lemma = wordnet_lemmatizer.lemmatize(word)\n",
        "            return lemma\n",
        "        except:\n",
        "            print(word)\n",
        "\n",
        "word_parse_features['lemma'] = word_parse_features.apply(lemmatiser, axis=1)\n",
        "word_parse_features.head()"
      ],
      "execution_count": null,
      "outputs": [
        {
          "output_type": "execute_result",
          "data": {
            "text/html": [
              "<div>\n",
              "<style scoped>\n",
              "    .dataframe tbody tr th:only-of-type {\n",
              "        vertical-align: middle;\n",
              "    }\n",
              "\n",
              "    .dataframe tbody tr th {\n",
              "        vertical-align: top;\n",
              "    }\n",
              "\n",
              "    .dataframe thead th {\n",
              "        text-align: right;\n",
              "    }\n",
              "</style>\n",
              "<table border=\"1\" class=\"dataframe\">\n",
              "  <thead>\n",
              "    <tr style=\"text-align: right;\">\n",
              "      <th></th>\n",
              "      <th>sentence</th>\n",
              "      <th>id</th>\n",
              "      <th>parse</th>\n",
              "      <th>corpus</th>\n",
              "      <th>token</th>\n",
              "      <th>split</th>\n",
              "      <th>token_length</th>\n",
              "      <th>syllables</th>\n",
              "      <th>pos</th>\n",
              "      <th>dep num</th>\n",
              "      <th>lemma</th>\n",
              "    </tr>\n",
              "  </thead>\n",
              "  <tbody>\n",
              "    <tr>\n",
              "      <th>0</th>\n",
              "      <td>come intending bring bound chief priest</td>\n",
              "      <td>3A9LA2FRWSEW9WO7UFA9AE6VQK3XHL</td>\n",
              "      <td>{'sentences': [{'index': 0, 'basicDependencies...</td>\n",
              "      <td>bible</td>\n",
              "      <td>chief priest</td>\n",
              "      <td>[chief, priest]</td>\n",
              "      <td>12</td>\n",
              "      <td>2</td>\n",
              "      <td>None</td>\n",
              "      <td>0</td>\n",
              "      <td>chief priest</td>\n",
              "    </tr>\n",
              "    <tr>\n",
              "      <th>1</th>\n",
              "      <td>day lord take away beauty anklet headband cres...</td>\n",
              "      <td>302U8RURJZ1WF35NXY44RD66WL4NVH</td>\n",
              "      <td>{'sentences': [{'index': 0, 'basicDependencies...</td>\n",
              "      <td>bible</td>\n",
              "      <td>crescent necklace</td>\n",
              "      <td>[crescent, necklace]</td>\n",
              "      <td>17</td>\n",
              "      <td>0</td>\n",
              "      <td>None</td>\n",
              "      <td>0</td>\n",
              "      <td>crescent necklace</td>\n",
              "    </tr>\n",
              "    <tr>\n",
              "      <th>2</th>\n",
              "      <td>unclean shall take ash burning sin offering ru...</td>\n",
              "      <td>3UDTAB6HH6ZVX00DTRXAOJLWX0B094</td>\n",
              "      <td>{'sentences': [{'index': 0, 'basicDependencies...</td>\n",
              "      <td>bible</td>\n",
              "      <td>sin offering</td>\n",
              "      <td>[sin, offering]</td>\n",
              "      <td>12</td>\n",
              "      <td>4</td>\n",
              "      <td>None</td>\n",
              "      <td>0</td>\n",
              "      <td>sin offering</td>\n",
              "    </tr>\n",
              "    <tr>\n",
              "      <th>3</th>\n",
              "      <td>precious treasure oil dwelling wise foolish ma...</td>\n",
              "      <td>3L2OEKSTW9ASGQDOW725GFK5P77Y8D</td>\n",
              "      <td>{'sentences': [{'index': 0, 'basicDependencies...</td>\n",
              "      <td>bible</td>\n",
              "      <td>precious treasure</td>\n",
              "      <td>[precious, treasure]</td>\n",
              "      <td>17</td>\n",
              "      <td>0</td>\n",
              "      <td>None</td>\n",
              "      <td>0</td>\n",
              "      <td>precious treasure</td>\n",
              "    </tr>\n",
              "    <tr>\n",
              "      <th>4</th>\n",
              "      <td>long god shall adversary reproach</td>\n",
              "      <td>39N6W9XWRDN795J6F5ET8S13DQKYGT</td>\n",
              "      <td>{'sentences': [{'index': 0, 'basicDependencies...</td>\n",
              "      <td>bible</td>\n",
              "      <td>adversary reproach</td>\n",
              "      <td>[adversary, reproach]</td>\n",
              "      <td>18</td>\n",
              "      <td>0</td>\n",
              "      <td>None</td>\n",
              "      <td>0</td>\n",
              "      <td>adversary reproach</td>\n",
              "    </tr>\n",
              "  </tbody>\n",
              "</table>\n",
              "</div>"
            ],
            "text/plain": [
              "                                            sentence  ...               lemma\n",
              "0            come intending bring bound chief priest  ...        chief priest\n",
              "1  day lord take away beauty anklet headband cres...  ...   crescent necklace\n",
              "2  unclean shall take ash burning sin offering ru...  ...        sin offering\n",
              "3  precious treasure oil dwelling wise foolish ma...  ...   precious treasure\n",
              "4                  long god shall adversary reproach  ...  adversary reproach\n",
              "\n",
              "[5 rows x 11 columns]"
            ]
          },
          "metadata": {
            "tags": []
          },
          "execution_count": 13
        }
      ]
    },
    {
      "cell_type": "code",
      "metadata": {
        "id": "hUqhtMpLaLI5"
      },
      "source": [
        "def synonyms(word):\n",
        "    synonyms=0\n",
        "    try:\n",
        "        results = wordnet.synsets(word)\n",
        "        synonyms = len(results)\n",
        "        return synonyms\n",
        "    except:\n",
        "        return synonyms\n",
        "\n",
        "def hypernyms(word):\n",
        "    hypernyms=0\n",
        "    try:\n",
        "        results = wordnet.synsets(word)\n",
        "        hypernyms = len(results[0].hypernyms())\n",
        "        return hypernyms\n",
        "    except:\n",
        "        return hypernyms\n",
        "\n",
        "def hyponyms(word):\n",
        "    hyponyms=0\n",
        "    try:\n",
        "        results = wordnet.synsets(word)\n",
        "    except:\n",
        "        return hyponyms\n",
        "    try:\n",
        "        hyponyms = len(results[0].hyponyms())\n",
        "        return hyponyms\n",
        "    except:\n",
        "        return hyponyms"
      ],
      "execution_count": null,
      "outputs": []
    },
    {
      "cell_type": "code",
      "metadata": {
        "colab": {
          "base_uri": "https://localhost:8080/"
        },
        "id": "jwUQTKuUYBQ7",
        "outputId": "7ff90cb7-447f-464e-8499-68df60e38cf7"
      },
      "source": [
        "word_parse_features['synonyms'] = word_parse_features['lemma'].apply(lambda x: synonyms(x))\n",
        "word_parse_features['hypernyms'] = word_parse_features['lemma'].apply(lambda x: hypernyms(x))\n",
        "word_parse_features['hyponyms'] = word_parse_features['lemma'].apply(lambda x: hyponyms(x))\n",
        "word_parse_features.head()"
      ],
      "execution_count": null,
      "outputs": [
        {
          "output_type": "execute_result",
          "data": {
            "text/html": [
              "<div>\n",
              "<style scoped>\n",
              "    .dataframe tbody tr th:only-of-type {\n",
              "        vertical-align: middle;\n",
              "    }\n",
              "\n",
              "    .dataframe tbody tr th {\n",
              "        vertical-align: top;\n",
              "    }\n",
              "\n",
              "    .dataframe thead th {\n",
              "        text-align: right;\n",
              "    }\n",
              "</style>\n",
              "<table border=\"1\" class=\"dataframe\">\n",
              "  <thead>\n",
              "    <tr style=\"text-align: right;\">\n",
              "      <th></th>\n",
              "      <th>sentence</th>\n",
              "      <th>id</th>\n",
              "      <th>parse</th>\n",
              "      <th>corpus</th>\n",
              "      <th>token</th>\n",
              "      <th>split</th>\n",
              "      <th>token_length</th>\n",
              "      <th>syllables</th>\n",
              "      <th>pos</th>\n",
              "      <th>dep num</th>\n",
              "      <th>lemma</th>\n",
              "      <th>synonyms</th>\n",
              "      <th>hypernyms</th>\n",
              "      <th>hyponyms</th>\n",
              "    </tr>\n",
              "  </thead>\n",
              "  <tbody>\n",
              "    <tr>\n",
              "      <th>0</th>\n",
              "      <td>come intending bring bound chief priest</td>\n",
              "      <td>3A9LA2FRWSEW9WO7UFA9AE6VQK3XHL</td>\n",
              "      <td>{'sentences': [{'index': 0, 'basicDependencies...</td>\n",
              "      <td>bible</td>\n",
              "      <td>chief priest</td>\n",
              "      <td>[chief, priest]</td>\n",
              "      <td>12</td>\n",
              "      <td>2</td>\n",
              "      <td>None</td>\n",
              "      <td>0</td>\n",
              "      <td>chief priest</td>\n",
              "      <td>0</td>\n",
              "      <td>0</td>\n",
              "      <td>0</td>\n",
              "    </tr>\n",
              "    <tr>\n",
              "      <th>1</th>\n",
              "      <td>day lord take away beauty anklet headband cres...</td>\n",
              "      <td>302U8RURJZ1WF35NXY44RD66WL4NVH</td>\n",
              "      <td>{'sentences': [{'index': 0, 'basicDependencies...</td>\n",
              "      <td>bible</td>\n",
              "      <td>crescent necklace</td>\n",
              "      <td>[crescent, necklace]</td>\n",
              "      <td>17</td>\n",
              "      <td>0</td>\n",
              "      <td>None</td>\n",
              "      <td>0</td>\n",
              "      <td>crescent necklace</td>\n",
              "      <td>0</td>\n",
              "      <td>0</td>\n",
              "      <td>0</td>\n",
              "    </tr>\n",
              "    <tr>\n",
              "      <th>2</th>\n",
              "      <td>unclean shall take ash burning sin offering ru...</td>\n",
              "      <td>3UDTAB6HH6ZVX00DTRXAOJLWX0B094</td>\n",
              "      <td>{'sentences': [{'index': 0, 'basicDependencies...</td>\n",
              "      <td>bible</td>\n",
              "      <td>sin offering</td>\n",
              "      <td>[sin, offering]</td>\n",
              "      <td>12</td>\n",
              "      <td>4</td>\n",
              "      <td>None</td>\n",
              "      <td>0</td>\n",
              "      <td>sin offering</td>\n",
              "      <td>0</td>\n",
              "      <td>0</td>\n",
              "      <td>0</td>\n",
              "    </tr>\n",
              "    <tr>\n",
              "      <th>3</th>\n",
              "      <td>precious treasure oil dwelling wise foolish ma...</td>\n",
              "      <td>3L2OEKSTW9ASGQDOW725GFK5P77Y8D</td>\n",
              "      <td>{'sentences': [{'index': 0, 'basicDependencies...</td>\n",
              "      <td>bible</td>\n",
              "      <td>precious treasure</td>\n",
              "      <td>[precious, treasure]</td>\n",
              "      <td>17</td>\n",
              "      <td>0</td>\n",
              "      <td>None</td>\n",
              "      <td>0</td>\n",
              "      <td>precious treasure</td>\n",
              "      <td>0</td>\n",
              "      <td>0</td>\n",
              "      <td>0</td>\n",
              "    </tr>\n",
              "    <tr>\n",
              "      <th>4</th>\n",
              "      <td>long god shall adversary reproach</td>\n",
              "      <td>39N6W9XWRDN795J6F5ET8S13DQKYGT</td>\n",
              "      <td>{'sentences': [{'index': 0, 'basicDependencies...</td>\n",
              "      <td>bible</td>\n",
              "      <td>adversary reproach</td>\n",
              "      <td>[adversary, reproach]</td>\n",
              "      <td>18</td>\n",
              "      <td>0</td>\n",
              "      <td>None</td>\n",
              "      <td>0</td>\n",
              "      <td>adversary reproach</td>\n",
              "      <td>0</td>\n",
              "      <td>0</td>\n",
              "      <td>0</td>\n",
              "    </tr>\n",
              "  </tbody>\n",
              "</table>\n",
              "</div>"
            ],
            "text/plain": [
              "                                            sentence  ... hyponyms\n",
              "0            come intending bring bound chief priest  ...        0\n",
              "1  day lord take away beauty anklet headband cres...  ...        0\n",
              "2  unclean shall take ash burning sin offering ru...  ...        0\n",
              "3  precious treasure oil dwelling wise foolish ma...  ...        0\n",
              "4                  long god shall adversary reproach  ...        0\n",
              "\n",
              "[5 rows x 14 columns]"
            ]
          },
          "metadata": {
            "tags": []
          },
          "execution_count": 15
        }
      ]
    },
    {
      "cell_type": "code",
      "metadata": {
        "id": "vYtJroxeaBfw"
      },
      "source": [
        "word_parse_features.to_csv('/content/drive/MyDrive/cwi2018_traindevset/2.csv')"
      ],
      "execution_count": null,
      "outputs": []
    },
    {
      "cell_type": "code",
      "metadata": {
        "id": "2-rpZnrTYE-a"
      },
      "source": [
        "\n",
        "def is_noun(tag):\n",
        "    return tag in ['NN', 'NNS', 'NNP', 'NNPS']\n",
        "\n",
        "\n",
        "def is_verb(tag):\n",
        "    return tag in ['VB', 'VBD', 'VBG', 'VBN', 'VBP', 'VBZ']\n",
        "\n",
        "\n",
        "def is_adverb(tag):\n",
        "    return tag in ['RB', 'RBR', 'RBS']\n",
        "\n",
        "\n",
        "def is_adjective(tag):\n",
        "    return tag in ['JJ', 'JJR', 'JJS']\n",
        "\n",
        "\n",
        "\n",
        "def penn_to_google(tag):\n",
        "    if is_adjective(tag):\n",
        "        return 'adj'\n",
        "    elif is_noun(tag):\n",
        "        return 'n'\n",
        "    elif is_adverb(tag):\n",
        "        return 'adv'\n",
        "    elif is_verb(tag):\n",
        "        return 'v'\n",
        "    return None\n",
        "\n",
        "def get_frequency(row):\n",
        "    nofreq = float(0.000000)\n",
        "    word = row[\"token\"]\n",
        "    word = str(word)\n",
        "    tag = row[\"pos\"]\n",
        "    tag = penn_to_google(tag)\n",
        "\n",
        "    try:\n",
        "        word_results = api.words(sp=word, max=1, md='pf')\n",
        "        tag_list = (word_results[0]['tags'][:-1])\n",
        "\n",
        "        frequency = word_results[0]['tags'][-1][2:]\n",
        "\n",
        "        frequency = float(frequency)\n",
        "\n",
        "        if tag in tag_list :\n",
        "            return frequency\n",
        "        else:\n",
        "            lemma = row['lemma']\n",
        "            try:\n",
        "                word_results = api.words(sp=lemma, max=1, md='pf')\n",
        "                tag_list = (word_results[0]['tags'][:-1])\n",
        "\n",
        "                frequency = word_results[0]['tags'][-1][2:]\n",
        "\n",
        "                frequency = float(frequency)\n",
        "\n",
        "                if tag in tag_list:\n",
        "                    return frequency\n",
        "                else:\n",
        "                    return nofreq\n",
        "            except:\n",
        "                return nofreq\n",
        "\n",
        "    except:\n",
        "\n",
        "\n",
        "        return nofreq \n"
      ],
      "execution_count": null,
      "outputs": []
    },
    {
      "cell_type": "code",
      "metadata": {
        "id": "CdVR9DTz1vbf"
      },
      "source": [
        "word_parse_features['google frequency'] = word_parse_features.apply(get_frequency ,axis=1)"
      ],
      "execution_count": null,
      "outputs": []
    },
    {
      "cell_type": "code",
      "metadata": {
        "colab": {
          "base_uri": "https://localhost:8080/"
        },
        "id": "XamVDO_J27oZ",
        "outputId": "45abfb84-91b7-412f-bd36-9c4a07c1a831"
      },
      "source": [
        "word_parse_features.head()"
      ],
      "execution_count": null,
      "outputs": [
        {
          "output_type": "execute_result",
          "data": {
            "text/html": [
              "<div>\n",
              "<style scoped>\n",
              "    .dataframe tbody tr th:only-of-type {\n",
              "        vertical-align: middle;\n",
              "    }\n",
              "\n",
              "    .dataframe tbody tr th {\n",
              "        vertical-align: top;\n",
              "    }\n",
              "\n",
              "    .dataframe thead th {\n",
              "        text-align: right;\n",
              "    }\n",
              "</style>\n",
              "<table border=\"1\" class=\"dataframe\">\n",
              "  <thead>\n",
              "    <tr style=\"text-align: right;\">\n",
              "      <th></th>\n",
              "      <th>sentence</th>\n",
              "      <th>id</th>\n",
              "      <th>parse</th>\n",
              "      <th>corpus</th>\n",
              "      <th>token</th>\n",
              "      <th>split</th>\n",
              "      <th>token_length</th>\n",
              "      <th>syllables</th>\n",
              "      <th>pos</th>\n",
              "      <th>dep num</th>\n",
              "      <th>lemma</th>\n",
              "      <th>synonyms</th>\n",
              "      <th>hypernyms</th>\n",
              "      <th>hyponyms</th>\n",
              "      <th>google frequency</th>\n",
              "    </tr>\n",
              "  </thead>\n",
              "  <tbody>\n",
              "    <tr>\n",
              "      <th>0</th>\n",
              "      <td>come intending bring bound chief priest</td>\n",
              "      <td>3A9LA2FRWSEW9WO7UFA9AE6VQK3XHL</td>\n",
              "      <td>{'sentences': [{'index': 0, 'basicDependencies...</td>\n",
              "      <td>bible</td>\n",
              "      <td>chief priest</td>\n",
              "      <td>[chief, priest]</td>\n",
              "      <td>12</td>\n",
              "      <td>2</td>\n",
              "      <td>None</td>\n",
              "      <td>0</td>\n",
              "      <td>chief priest</td>\n",
              "      <td>0</td>\n",
              "      <td>0</td>\n",
              "      <td>0</td>\n",
              "      <td>0.0</td>\n",
              "    </tr>\n",
              "    <tr>\n",
              "      <th>1</th>\n",
              "      <td>day lord take away beauty anklet headband cres...</td>\n",
              "      <td>302U8RURJZ1WF35NXY44RD66WL4NVH</td>\n",
              "      <td>{'sentences': [{'index': 0, 'basicDependencies...</td>\n",
              "      <td>bible</td>\n",
              "      <td>crescent necklace</td>\n",
              "      <td>[crescent, necklace]</td>\n",
              "      <td>17</td>\n",
              "      <td>0</td>\n",
              "      <td>None</td>\n",
              "      <td>0</td>\n",
              "      <td>crescent necklace</td>\n",
              "      <td>0</td>\n",
              "      <td>0</td>\n",
              "      <td>0</td>\n",
              "      <td>0.0</td>\n",
              "    </tr>\n",
              "    <tr>\n",
              "      <th>2</th>\n",
              "      <td>unclean shall take ash burning sin offering ru...</td>\n",
              "      <td>3UDTAB6HH6ZVX00DTRXAOJLWX0B094</td>\n",
              "      <td>{'sentences': [{'index': 0, 'basicDependencies...</td>\n",
              "      <td>bible</td>\n",
              "      <td>sin offering</td>\n",
              "      <td>[sin, offering]</td>\n",
              "      <td>12</td>\n",
              "      <td>4</td>\n",
              "      <td>None</td>\n",
              "      <td>0</td>\n",
              "      <td>sin offering</td>\n",
              "      <td>0</td>\n",
              "      <td>0</td>\n",
              "      <td>0</td>\n",
              "      <td>0.0</td>\n",
              "    </tr>\n",
              "    <tr>\n",
              "      <th>3</th>\n",
              "      <td>precious treasure oil dwelling wise foolish ma...</td>\n",
              "      <td>3L2OEKSTW9ASGQDOW725GFK5P77Y8D</td>\n",
              "      <td>{'sentences': [{'index': 0, 'basicDependencies...</td>\n",
              "      <td>bible</td>\n",
              "      <td>precious treasure</td>\n",
              "      <td>[precious, treasure]</td>\n",
              "      <td>17</td>\n",
              "      <td>0</td>\n",
              "      <td>None</td>\n",
              "      <td>0</td>\n",
              "      <td>precious treasure</td>\n",
              "      <td>0</td>\n",
              "      <td>0</td>\n",
              "      <td>0</td>\n",
              "      <td>0.0</td>\n",
              "    </tr>\n",
              "    <tr>\n",
              "      <th>4</th>\n",
              "      <td>long god shall adversary reproach</td>\n",
              "      <td>39N6W9XWRDN795J6F5ET8S13DQKYGT</td>\n",
              "      <td>{'sentences': [{'index': 0, 'basicDependencies...</td>\n",
              "      <td>bible</td>\n",
              "      <td>adversary reproach</td>\n",
              "      <td>[adversary, reproach]</td>\n",
              "      <td>18</td>\n",
              "      <td>0</td>\n",
              "      <td>None</td>\n",
              "      <td>0</td>\n",
              "      <td>adversary reproach</td>\n",
              "      <td>0</td>\n",
              "      <td>0</td>\n",
              "      <td>0</td>\n",
              "      <td>0.0</td>\n",
              "    </tr>\n",
              "  </tbody>\n",
              "</table>\n",
              "</div>"
            ],
            "text/plain": [
              "                                            sentence  ... google frequency\n",
              "0            come intending bring bound chief priest  ...              0.0\n",
              "1  day lord take away beauty anklet headband cres...  ...              0.0\n",
              "2  unclean shall take ash burning sin offering ru...  ...              0.0\n",
              "3  precious treasure oil dwelling wise foolish ma...  ...              0.0\n",
              "4                  long god shall adversary reproach  ...              0.0\n",
              "\n",
              "[5 rows x 15 columns]"
            ]
          },
          "metadata": {
            "tags": []
          },
          "execution_count": 19
        }
      ]
    },
    {
      "cell_type": "code",
      "metadata": {
        "id": "ZT6jx5Kb16Rs"
      },
      "source": [
        "word_parse_features.to_csv('/content/drive/MyDrive/CS60075-Team28-Task-1/data/extracted_features/lcp_multi_test_features.csv')"
      ],
      "execution_count": null,
      "outputs": []
    },
    {
      "cell_type": "code",
      "metadata": {
        "id": "N-ATkWY83LBm"
      },
      "source": [
        ""
      ],
      "execution_count": null,
      "outputs": []
    }
  ]
}