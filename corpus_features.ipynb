{
  "nbformat": 4,
  "nbformat_minor": 0,
  "metadata": {
    "colab": {
      "name": "corpus_features.ipynb",
      "provenance": []
    },
    "kernelspec": {
      "display_name": "Python 3",
      "name": "python3"
    },
    "language_info": {
      "name": "python"
    }
  },
  "cells": [
    {
      "cell_type": "code",
      "metadata": {
        "colab": {
          "base_uri": "https://localhost:8080/"
        },
        "id": "-Je-71Q96VZT",
        "outputId": "7bb8076c-7a9c-41a7-8204-a99ceefe8419"
      },
      "source": [
        "#only run it when you are on colab\n",
        "from google.colab import drive\n",
        "drive.mount('/content/drive')\n",
        "\n",
        "%cd /content/drive/MyDrive/nlp_project"
      ],
      "execution_count": 1,
      "outputs": [
        {
          "output_type": "stream",
          "text": [
            "Mounted at /content/drive\n",
            "/content/drive/MyDrive/nlp_project\n"
          ],
          "name": "stdout"
        }
      ]
    },
    {
      "cell_type": "code",
      "metadata": {
        "id": "HFBpk5eHYfHA"
      },
      "source": [
        "def RepresentsInt(s):\n",
        "    try: \n",
        "        int(s)\n",
        "        return True\n",
        "    except ValueError:\n",
        "        return False\n",
        "def get_data_from_SimpleWiki(line) :\n",
        "  line = line.split()\n",
        "  while RepresentsInt(line[0]) is False :\n",
        "    line = line[1:]\n",
        "  line = line[1:]\n",
        "  return \" \".join(line)"
      ],
      "execution_count": null,
      "outputs": []
    },
    {
      "cell_type": "code",
      "metadata": {
        "id": "VX3DCpzrbJ14"
      },
      "source": [
        "simple = open(\"corpus/simple.txt\",'r')\n",
        "simple_last_col = open(\"corpus/simple_last_col.txt\",'w')"
      ],
      "execution_count": null,
      "outputs": []
    },
    {
      "cell_type": "code",
      "metadata": {
        "id": "gzeruVCjbr0_"
      },
      "source": [
        "for _ in range(505974) :\n",
        "  line = simple.readline()\n",
        "  if len(line) == 0 :\n",
        "    continue\n",
        "  if len(get_data_from_SimpleWiki(line)) == 0 :\n",
        "    continue  \n",
        "  print(get_data_from_SimpleWiki(line),file= simple_last_col)"
      ],
      "execution_count": null,
      "outputs": []
    },
    {
      "cell_type": "code",
      "metadata": {
        "colab": {
          "base_uri": "https://localhost:8080/"
        },
        "id": "s7dPS8DXlkVP",
        "outputId": "2d18dd99-6d8f-44e4-b0ec-597b3c361462"
      },
      "source": [
        "import os\n",
        "import csv\n",
        "import nltk\n",
        "import string\n",
        "import argparse\n",
        "import pandas as pd\n",
        "from nltk.corpus import stopwords\n",
        "from nltk.tokenize import word_tokenize \n",
        "from nltk.stem import WordNetLemmatizer\n",
        "\n",
        "nltk.download('punkt')\n",
        "nltk.download('stopwords')\n",
        "nltk.download('wordnet')\n",
        "lemmatizer = WordNetLemmatizer() "
      ],
      "execution_count": null,
      "outputs": [
        {
          "output_type": "stream",
          "text": [
            "[nltk_data] Downloading package punkt to /root/nltk_data...\n",
            "[nltk_data]   Unzipping tokenizers/punkt.zip.\n",
            "[nltk_data] Downloading package stopwords to /root/nltk_data...\n",
            "[nltk_data]   Unzipping corpora/stopwords.zip.\n",
            "[nltk_data] Downloading package wordnet to /root/nltk_data...\n",
            "[nltk_data]   Unzipping corpora/wordnet.zip.\n"
          ],
          "name": "stdout"
        }
      ]
    },
    {
      "cell_type": "code",
      "metadata": {
        "id": "dV4lcXAyWafA"
      },
      "source": [
        "def lemmatize(text,x):\n",
        "\tlemmas = [lemmatizer.lemmatize(word) for word in x] \n",
        "\treturn \" \".join(lemmas)\n",
        "\n",
        "# remove stopwords\n",
        "def remove_stopwords(text,x):\n",
        "  y = set(stopwords.words('english'))\n",
        "  words = [w for w in x if (w not in y)]\n",
        "  return \" \".join(words)\n"
      ],
      "execution_count": null,
      "outputs": []
    },
    {
      "cell_type": "code",
      "metadata": {
        "id": "uNT-dFv9f_4T"
      },
      "source": [
        "\n",
        "def preprocess_line(line) :\n",
        "  line = line.lower()\n",
        "  translator = str.maketrans('', '', string.punctuation)\n",
        "  line  = line.translate(translator)\n",
        "  # try :\n",
        "  #   nltk.data.find('corpora/stopwords')\n",
        "  # except LookupError:\n",
        "  #   nltk.download('stopwords')\n",
        "  x = word_tokenize(line)\n",
        "  line = remove_stopwords(line,x)\n",
        "  x = word_tokenize(line)\n",
        "  line = lemmatize(line,x)\n",
        "  return line"
      ],
      "execution_count": null,
      "outputs": []
    },
    {
      "cell_type": "code",
      "metadata": {
        "colab": {
          "base_uri": "https://localhost:8080/",
          "height": 35
        },
        "id": "taZe-_u-kcPf",
        "outputId": "27ee8750-5a53-49a7-ad99-457c4621378f"
      },
      "source": [
        "preprocess_line(\"a picture with a smile -|and perhaps , a tear .\")"
      ],
      "execution_count": null,
      "outputs": [
        {
          "output_type": "execute_result",
          "data": {
            "application/vnd.google.colaboratory.intrinsic+json": {
              "type": "string"
            },
            "text/plain": [
              "'picture smile perhaps tear'"
            ]
          },
          "metadata": {
            "tags": []
          },
          "execution_count": 4
        }
      ]
    },
    {
      "cell_type": "code",
      "metadata": {
        "colab": {
          "base_uri": "https://localhost:8080/"
        },
        "id": "RwIY5JlWmeWs",
        "outputId": "255852f0-c1f3-4dbe-af50-262e0953ec49"
      },
      "source": [
        "! wc corpus/simple_last_col.txt"
      ],
      "execution_count": null,
      "outputs": [
        {
          "output_type": "stream",
          "text": [
            "  505272  9205781 48443058 corpus/simple_last_col.txt\n"
          ],
          "name": "stdout"
        }
      ]
    },
    {
      "cell_type": "code",
      "metadata": {
        "colab": {
          "base_uri": "https://localhost:8080/"
        },
        "id": "B1_vNhmxkgHe",
        "outputId": "0d5e260f-da49-4f5c-a436-0503078cd929"
      },
      "source": [
        "simple_last_col = open(\"corpus/simple_last_col.txt\",'r')\n",
        "simple_last_col_preprocessed = open(\"corpus/simple_last_col_preprocessed.txt\",'w')\n",
        "uptil = \"\"\n",
        "for _ in range(505272):\n",
        "  uptil += \" \"\n",
        "  uptil += simple_last_col.readline()\n",
        "print(\"phase 1 done\")\n",
        "print(preprocess_line(uptil),file = simple_last_col_preprocessed)"
      ],
      "execution_count": null,
      "outputs": [
        {
          "output_type": "stream",
          "text": [
            "phase 1 done\n"
          ],
          "name": "stdout"
        }
      ]
    },
    {
      "cell_type": "code",
      "metadata": {
        "colab": {
          "base_uri": "https://localhost:8080/"
        },
        "id": "LhEvf-ljm3Qg",
        "outputId": "59ea0a9d-286c-49ae-daeb-cc63b1af04e8"
      },
      "source": [
        "! wc corpus/simple_last_col.txt"
      ],
      "execution_count": null,
      "outputs": [
        {
          "output_type": "stream",
          "text": [
            "  505272  9205781 48443058 corpus/simple_last_col.txt\n"
          ],
          "name": "stdout"
        }
      ]
    },
    {
      "cell_type": "code",
      "metadata": {
        "colab": {
          "base_uri": "https://localhost:8080/"
        },
        "id": "6LpVDm8GuJdr",
        "outputId": "79d099d2-6d50-437a-9aec-1b40563e46d0"
      },
      "source": [
        "! wc corpus/simple_last_col_preprocessed.txt"
      ],
      "execution_count": null,
      "outputs": [
        {
          "output_type": "stream",
          "text": [
            "       0  4738347 32369302 corpus/simple_last_col_preprocessed.txt\n"
          ],
          "name": "stdout"
        }
      ]
    },
    {
      "cell_type": "code",
      "metadata": {
        "colab": {
          "base_uri": "https://localhost:8080/"
        },
        "id": "i8qirWom4kK3",
        "outputId": "8654254e-6a6a-4e11-d9e1-6e4ab49cb6a9"
      },
      "source": [
        "! wc corpus/simple_last_col_preprocessed.txt"
      ],
      "execution_count": null,
      "outputs": [
        {
          "output_type": "stream",
          "text": [
            "       1  4738347 32369303 corpus/simple_last_col_preprocessed.txt\n"
          ],
          "name": "stdout"
        }
      ]
    },
    {
      "cell_type": "code",
      "metadata": {
        "colab": {
          "base_uri": "https://localhost:8080/"
        },
        "id": "a59_Ll0O22_U",
        "outputId": "35f9bbcc-f28c-4a6b-fa64-6a621217b77d"
      },
      "source": [
        "! wc corpus/subtitles.txt"
      ],
      "execution_count": null,
      "outputs": [
        {
          "output_type": "stream",
          "text": [
            " 3062510 17267212 74901150 corpus/subtitles.txt\n"
          ],
          "name": "stdout"
        }
      ]
    },
    {
      "cell_type": "code",
      "metadata": {
        "colab": {
          "base_uri": "https://localhost:8080/"
        },
        "id": "xcDWTH6C47Kd",
        "outputId": "4da0f15b-766e-465d-fe75-ce0051d91069"
      },
      "source": [
        "!head corpus/subtitles.txt"
      ],
      "execution_count": null,
      "outputs": [
        {
          "output_type": "stream",
          "text": [
            "the kid -charles chaplin\n",
            "a picture with a smile -|and perhaps , a tear .\n",
            "`` charity hospital ''\n",
            "the woman -|whose sin was motherhood .\n",
            "alone .\n",
            "the man .\n",
            "his morning promenade .\n",
            "`` awkward ass . ''\n",
            "`` pardon me , you dropped something . ''\n",
            "`` is that yours ? ''\n"
          ],
          "name": "stdout"
        }
      ]
    },
    {
      "cell_type": "code",
      "metadata": {
        "colab": {
          "base_uri": "https://localhost:8080/"
        },
        "id": "89UBHmZKubfs",
        "outputId": "e7367b77-9db0-4120-f5b0-9b0010443203"
      },
      "source": [
        "subtitles = open(\"corpus/subtitles.txt\",'r')\n",
        "subtitles_preprocessed = open(\"corpus/subtitles_preprocessed.txt\",'w')\n",
        "uptil = \"\"\n",
        "for _ in range(3062510  ):\n",
        "  uptil += \" \"\n",
        "  uptil += subtitles.readline()\n",
        "print(\"phase 1 done\")\n",
        "\n",
        "print(preprocess_line(uptil),file = subtitles_preprocessed )"
      ],
      "execution_count": null,
      "outputs": [
        {
          "output_type": "stream",
          "text": [
            "phase 1 done\n"
          ],
          "name": "stdout"
        }
      ]
    },
    {
      "cell_type": "code",
      "metadata": {
        "colab": {
          "base_uri": "https://localhost:8080/"
        },
        "id": "zTA4AN793Nxk",
        "outputId": "e0b5d975-2cb1-428f-d419-55571ebc0c03"
      },
      "source": [
        "! wc corpus/subtitles_preprocessed.txt"
      ],
      "execution_count": null,
      "outputs": [
        {
          "output_type": "stream",
          "text": [
            "       0  6769796 40751767 corpus/subtitles_preprocessed.txt\n"
          ],
          "name": "stdout"
        }
      ]
    },
    {
      "cell_type": "markdown",
      "metadata": {
        "id": "whjC7HsNBPDO"
      },
      "source": [
        "Make frequency wise sorted file"
      ]
    },
    {
      "cell_type": "code",
      "metadata": {
        "id": "JvCHZjwM33uU"
      },
      "source": [
        "subtitles_preprocessed = open(\"corpus/subtitles_preprocessed.txt\",'r')\n",
        "subtitles_preprocessed = subtitles_preprocessed.readline().split()\n",
        "freq={}\n",
        "for i in subtitles_preprocessed :\n",
        "  if i in freq :\n",
        "    freq[i]+=1\n",
        "  else :\n",
        "    freq[i]= 1\n",
        "freq = sorted([[-freq[i],i] for i in freq])\n",
        "\n",
        "subtitles_sorted = open(\"corpus/subtitles_sorted.txt\",'w')\n",
        "\n",
        "for i in freq :\n",
        "  print(-i[0],i[1], file = subtitles_sorted)"
      ],
      "execution_count": null,
      "outputs": []
    },
    {
      "cell_type": "code",
      "metadata": {
        "id": "lYXt7P16Cvpy"
      },
      "source": [
        "simple_last_col_preprocessed = open(\"corpus/simple_last_col_preprocessed.txt\",'r')\n",
        "simple_last_col_preprocessed = simple_last_col_preprocessed.readline().split()\n",
        "freq={}\n",
        "for i in simple_last_col_preprocessed :\n",
        "  if i in freq :\n",
        "    freq[i]+=1\n",
        "  else :\n",
        "    freq[i]= 1\n",
        "freq = sorted([[-freq[i],i] for i in freq])\n",
        "\n",
        "simple_last_col_sorted = open(\"corpus/simple_last_col_sorted.txt\",'w')\n",
        "\n",
        "for i in freq :\n",
        "  print(-i[0],i[1], file = simple_last_col_sorted)"
      ],
      "execution_count": null,
      "outputs": []
    },
    {
      "cell_type": "code",
      "metadata": {
        "colab": {
          "base_uri": "https://localhost:8080/"
        },
        "id": "j_LxIVQvD2US",
        "outputId": "6d8b7853-1651-4a70-ec54-3c271ceb8a4d"
      },
      "source": [
        "freq[:10]"
      ],
      "execution_count": null,
      "outputs": [
        {
          "output_type": "execute_result",
          "data": {
            "text/plain": [
              "[[-76880, 'lrb'],\n",
              " [-76807, 'rrb'],\n",
              " [-27051, 'also'],\n",
              " [-24363, 'people'],\n",
              " [-22781, 'one'],\n",
              " [-18326, 'first'],\n",
              " [-17997, 'many'],\n",
              " [-17251, 'state'],\n",
              " [-17122, 'called'],\n",
              " [-16349, 'used']]"
            ]
          },
          "metadata": {
            "tags": []
          },
          "execution_count": 63
        }
      ]
    },
    {
      "cell_type": "code",
      "metadata": {
        "colab": {
          "base_uri": "https://localhost:8080/"
        },
        "id": "7uJhg4tjDm1n",
        "outputId": "fd3c6048-7a97-4631-ba17-6c342486163c"
      },
      "source": [
        "!ls"
      ],
      "execution_count": null,
      "outputs": [
        {
          "output_type": "stream",
          "text": [
            "corpus\tdata  predictions\n"
          ],
          "name": "stdout"
        }
      ]
    },
    {
      "cell_type": "code",
      "metadata": {
        "colab": {
          "base_uri": "https://localhost:8080/"
        },
        "id": "ltPQ80RnDtBt",
        "outputId": "940167c4-c6dc-4e7e-8527-8433439f7f39"
      },
      "source": [
        "!ls corpus"
      ],
      "execution_count": null,
      "outputs": [
        {
          "output_type": "stream",
          "text": [
            "familarity.txt\t\t\t  simple.txt\n",
            "simple_last_col_preprocessed.txt  subtitles_preprocessed.txt\n",
            "simple_last_col_sorted.txt\t  subtitles_sorted.txt\n",
            "simple_last_col.txt\t\t  subtitles.txt\n"
          ],
          "name": "stdout"
        }
      ]
    },
    {
      "cell_type": "code",
      "metadata": {
        "colab": {
          "base_uri": "https://localhost:8080/"
        },
        "id": "dF7bq-iUDu6g",
        "outputId": "ae614746-4035-4dce-8f5b-918356177c9b"
      },
      "source": [
        "! wc corpus/simple_last_col_sorted.txt"
      ],
      "execution_count": null,
      "outputs": [
        {
          "output_type": "stream",
          "text": [
            " 174266  174267 1549196 corpus/simple_last_col_sorted.txt\n"
          ],
          "name": "stdout"
        }
      ]
    },
    {
      "cell_type": "code",
      "metadata": {
        "colab": {
          "base_uri": "https://localhost:8080/"
        },
        "id": "OHsEvt0BDz5A",
        "outputId": "a3f12067-eaec-4afc-fa99-c329fe6be360"
      },
      "source": [
        "! wc corpus/subtitles_sorted.txt"
      ],
      "execution_count": null,
      "outputs": [
        {
          "output_type": "stream",
          "text": [
            " 128347  128341 1147548 corpus/subtitles_sorted.txt\n"
          ],
          "name": "stdout"
        }
      ]
    },
    {
      "cell_type": "code",
      "metadata": {
        "id": "PpfAkZyvEBlz",
        "colab": {
          "base_uri": "https://localhost:8080/"
        },
        "outputId": "92ee9401-8fd4-4b65-9b59-f6e188ead90b"
      },
      "source": [
        "! head corpus/subtitles_sorted.txt"
      ],
      "execution_count": null,
      "outputs": [
        {
          "output_type": "stream",
          "text": [
            "nt\n",
            "get\n",
            "know\n",
            "oh\n",
            "go\n",
            "right\n",
            "like\n",
            "come\n",
            "got\n",
            "one\n"
          ],
          "name": "stdout"
        }
      ]
    },
    {
      "cell_type": "code",
      "metadata": {
        "id": "U_VqJBJPEGz6",
        "colab": {
          "base_uri": "https://localhost:8080/"
        },
        "outputId": "df11a773-5c3d-4119-c9e4-e9a378c625b0"
      },
      "source": [
        "! wc corpus/English.txt"
      ],
      "execution_count": null,
      "outputs": [
        {
          "output_type": "stream",
          "text": [
            "  31102  789635 4169614 corpus/English.txt\n"
          ],
          "name": "stdout"
        }
      ]
    },
    {
      "cell_type": "code",
      "metadata": {
        "colab": {
          "base_uri": "https://localhost:8080/"
        },
        "id": "-Nrf6Izz0jzJ",
        "outputId": "a6646102-5ccf-45b2-f85b-ba5beb686dcd"
      },
      "source": [
        "English = open(\"corpus/English.txt\",'r')\n",
        "English_preprocessed = open(\"corpus/English_preprocessed.txt\",'w')\n",
        "uptil = \"\"\n",
        "for _ in range(31102):\n",
        "  uptil += \" \"\n",
        "  uptil += English.readline()\n",
        "print(\"phase 1 done\")\n",
        "\n",
        "print(preprocess_line(uptil),file = English_preprocessed )"
      ],
      "execution_count": null,
      "outputs": [
        {
          "output_type": "stream",
          "text": [
            "phase 1 done\n"
          ],
          "name": "stdout"
        }
      ]
    },
    {
      "cell_type": "code",
      "metadata": {
        "colab": {
          "base_uri": "https://localhost:8080/"
        },
        "id": "yCi6S6Sx1A0O",
        "outputId": "230611a3-5cf3-4c89-f21f-268291d5675c"
      },
      "source": [
        "!ls corpus"
      ],
      "execution_count": null,
      "outputs": [
        {
          "output_type": "stream",
          "text": [
            "English_preprocessed.txt\t  simple_last_col.txt\n",
            "English.txt\t\t\t  simple.txt\n",
            "familarity.txt\t\t\t  subtitles_preprocessed.txt\n",
            "nlpdata_craft\t\t\t  subtitles_sorted.txt\n",
            "simple_last_col_preprocessed.txt  subtitles.txt\n",
            "simple_last_col_sorted.txt\n"
          ],
          "name": "stdout"
        }
      ]
    },
    {
      "cell_type": "code",
      "metadata": {
        "colab": {
          "base_uri": "https://localhost:8080/"
        },
        "id": "tdpf1-cN1JgX",
        "outputId": "57370868-5e93-4e83-ee3f-e60cdd60df06"
      },
      "source": [
        "!wc corpus/English_preprocessed.txt"
      ],
      "execution_count": null,
      "outputs": [
        {
          "output_type": "stream",
          "text": [
            "      0  374504 2336983 corpus/English_preprocessed.txt\n"
          ],
          "name": "stdout"
        }
      ]
    },
    {
      "cell_type": "code",
      "metadata": {
        "id": "IoO_V65P1NMa"
      },
      "source": [
        "English_preprocessed = open(\"corpus/English_preprocessed.txt\",'r')\n",
        "English_preprocessed = English_preprocessed.readline().split()\n",
        "freq={}\n",
        "for i in English_preprocessed :\n",
        "  if i in freq :\n",
        "    freq[i]+=1\n",
        "  else :\n",
        "    freq[i]= 1\n",
        "freq = sorted([[-freq[i],i] for i in freq])\n",
        "\n",
        "English_sorted = open(\"corpus/English_sorted.txt\",'w')\n",
        "\n",
        "for i in freq :\n",
        "  print(-i[0],i[1], file = English_sorted)"
      ],
      "execution_count": null,
      "outputs": []
    },
    {
      "cell_type": "code",
      "metadata": {
        "colab": {
          "base_uri": "https://localhost:8080/"
        },
        "id": "aSh0v4mx16eQ",
        "outputId": "a95c2fda-cc7b-4c87-c969-93a0e2516e52"
      },
      "source": [
        "!wc corpus/English_sorted.txt"
      ],
      "execution_count": null,
      "outputs": [
        {
          "output_type": "stream",
          "text": [
            "  6808  13616 129516 corpus/English_sorted.txt\n"
          ],
          "name": "stdout"
        }
      ]
    },
    {
      "cell_type": "code",
      "metadata": {
        "colab": {
          "base_uri": "https://localhost:8080/"
        },
        "id": "p1vYh1DJ7cTu",
        "outputId": "21efcd38-607a-4242-8248-339c42120e02"
      },
      "source": [
        "!wc corpus/English_sorted.txt"
      ],
      "execution_count": null,
      "outputs": [
        {
          "output_type": "stream",
          "text": [
            " 5533 11068 57370 corpus/English_sorted.txt\n"
          ],
          "name": "stdout"
        }
      ]
    },
    {
      "cell_type": "code",
      "metadata": {
        "colab": {
          "base_uri": "https://localhost:8080/"
        },
        "id": "LkYuMkpF7iBf",
        "outputId": "f4c47141-ae33-4a38-8a5d-4da50e8a3070"
      },
      "source": [
        "!tail corpus/English_sorted.txt"
      ],
      "execution_count": null,
      "outputs": [
        {
          "output_type": "stream",
          "text": [
            "3 doctor\n",
            "3 doorkeeper\n",
            "3 dothan\n",
            "3 dreg\n",
            "3 drieth\n",
            "3 dropping\n",
            "3 dulcimer\n",
            "3 dull\n",
            "3 dweller\n",
            "3 dwellingplace"
          ],
          "name": "stdout"
        }
      ]
    },
    {
      "cell_type": "code",
      "metadata": {
        "colab": {
          "base_uri": "https://localhost:8080/",
          "height": 162
        },
        "id": "oJGpG6Lu1_ol",
        "outputId": "7f32db31-e188-4320-8048-08dc1326a8a1"
      },
      "source": [
        "frea[:10]"
      ],
      "execution_count": null,
      "outputs": [
        {
          "output_type": "error",
          "ename": "NameError",
          "evalue": "ignored",
          "traceback": [
            "\u001b[0;31m---------------------------------------------------------------------------\u001b[0m",
            "\u001b[0;31mNameError\u001b[0m                                 Traceback (most recent call last)",
            "\u001b[0;32m<ipython-input-14-43ecf5d33bdf>\u001b[0m in \u001b[0;36m<module>\u001b[0;34m()\u001b[0m\n\u001b[0;32m----> 1\u001b[0;31m \u001b[0mfrea\u001b[0m\u001b[0;34m[\u001b[0m\u001b[0;34m:\u001b[0m\u001b[0;36m10\u001b[0m\u001b[0;34m]\u001b[0m\u001b[0;34m\u001b[0m\u001b[0;34m\u001b[0m\u001b[0m\n\u001b[0m",
            "\u001b[0;31mNameError\u001b[0m: name 'frea' is not defined"
          ]
        }
      ]
    },
    {
      "cell_type": "code",
      "metadata": {
        "colab": {
          "base_uri": "https://localhost:8080/"
        },
        "id": "hxjtNSKV2KFa",
        "outputId": "563716eb-4dcc-4752-d43b-87f5ff6ed0ed"
      },
      "source": [
        "!ls corpus"
      ],
      "execution_count": null,
      "outputs": [
        {
          "output_type": "stream",
          "text": [
            "English_preprocessed.txt\t  simple_last_col_sorted.txt\n",
            "English_sorted.txt\t\t  simple_last_col.txt\n",
            "English.txt\t\t\t  simple.txt\n",
            "familarity.txt\t\t\t  subtitles_preprocessed.txt\n",
            "nlpdata_craft\t\t\t  subtitles_sorted.txt\n",
            "simple_last_col_preprocessed.txt  subtitles.txt\n"
          ],
          "name": "stdout"
        }
      ]
    },
    {
      "cell_type": "code",
      "metadata": {
        "id": "L7GIwzBqFey8"
      },
      "source": [
        "import os \n",
        "path = \"corpus/nlpdata_craft\"\n",
        "dir_list = os.listdir(path)\n",
        "assert(len(dir_list)==67)\n",
        "\n",
        "# uptil = \"\"\n",
        "out = open(\"corpus/biomedical.txt\",'w')\n",
        "for x in dir_list :\n",
        "\tf = open(os.path.join(path,x),\"r\",encoding=\"utf8\")\n",
        "\tfor y in f :\n",
        "\t\tprint(y,file =out)"
      ],
      "execution_count": null,
      "outputs": []
    },
    {
      "cell_type": "code",
      "metadata": {
        "colab": {
          "base_uri": "https://localhost:8080/"
        },
        "id": "5pWY411uFoDZ",
        "outputId": "a7ccd8e1-061c-4569-d44b-b7d67daea1f5"
      },
      "source": [
        "! wc corpus/biomedical.txt"
      ],
      "execution_count": null,
      "outputs": [
        {
          "output_type": "stream",
          "text": [
            "  27251  434678 2889361 corpus/biomedical.txt\n"
          ],
          "name": "stdout"
        }
      ]
    },
    {
      "cell_type": "code",
      "metadata": {
        "colab": {
          "base_uri": "https://localhost:8080/"
        },
        "id": "IDYUAviUFwja",
        "outputId": "839db36b-416b-4b08-b0fa-acba725fb97d"
      },
      "source": [
        "biomedical = open(\"corpus/biomedical.txt\",'r')\n",
        "biomedical_preprocessed = open(\"corpus/biomedical_preprocessed.txt\",'w')\n",
        "uptil = \"\"\n",
        "for _ in range(27251):\n",
        "  uptil += \" \"\n",
        "  uptil += biomedical.readline()\n",
        "print(\"phase 1 done\")\n",
        "\n",
        "print(preprocess_line(uptil),file = biomedical_preprocessed )"
      ],
      "execution_count": null,
      "outputs": [
        {
          "output_type": "stream",
          "text": [
            "phase 1 done\n"
          ],
          "name": "stdout"
        }
      ]
    },
    {
      "cell_type": "code",
      "metadata": {
        "colab": {
          "base_uri": "https://localhost:8080/"
        },
        "id": "-uaKOzSzGEmu",
        "outputId": "39d6d219-3f6c-4c77-a8b1-98313ace1ebe"
      },
      "source": [
        "! wc corpus/biomedical_preprocessed.txt"
      ],
      "execution_count": null,
      "outputs": [
        {
          "output_type": "stream",
          "text": [
            "      0  283403 2162055 corpus/biomedical_preprocessed.txt\n"
          ],
          "name": "stdout"
        }
      ]
    },
    {
      "cell_type": "code",
      "metadata": {
        "id": "EUd7iZZ1GJuA"
      },
      "source": [
        "biomedical_preprocessed = open(\"corpus/biomedical_preprocessed.txt\",'r')\n",
        "biomedical_preprocessed = biomedical_preprocessed.readline().split()\n",
        "freq={}\n",
        "for i in biomedical_preprocessed :\n",
        "  if i in freq :\n",
        "    freq[i]+=1\n",
        "  else :\n",
        "    freq[i]= 1\n",
        "freq = sorted([[-freq[i],i] for i in freq])\n",
        "\n",
        "biomedical_sorted = open(\"corpus/biomedical_sorted.txt\",'w')\n",
        "\n",
        "for i in freq :\n",
        "  print(-i[0],i[1], file = biomedical_sorted)"
      ],
      "execution_count": null,
      "outputs": []
    },
    {
      "cell_type": "code",
      "metadata": {
        "colab": {
          "base_uri": "https://localhost:8080/"
        },
        "id": "K-WhsO5bGfV3",
        "outputId": "b39784aa-9cef-495d-c719-dbd9ee2c38d3"
      },
      "source": [
        "! wc corpus/biomedical_sorted.txt"
      ],
      "execution_count": null,
      "outputs": [
        {
          "output_type": "stream",
          "text": [
            " 20074  40150 229470 corpus/biomedical_sorted.txt\n"
          ],
          "name": "stdout"
        }
      ]
    },
    {
      "cell_type": "code",
      "metadata": {
        "id": "WxyonPNJGpCi"
      },
      "source": [
        "import pandas as pd\n",
        "def plot_dis(file):\n",
        "  import matplotlib.pyplot as plt\n",
        "  import numpy as np\n",
        "  from matplotlib import colors\n",
        "  from matplotlib.ticker import PercentFormatter\n",
        "  # plt.hist?\n",
        "  f = open(\"corpus/\" +file,'r')\n",
        "  data = []\n",
        "  for x in f :\n",
        "    y = int(x.split()[0])\n",
        "    data.append(y)\n",
        "  # ser = pd.Series(data)\n",
        "  freq = {}\n",
        "  for i in data :\n",
        "    if i in freq :\n",
        "      freq[i]+=1\n",
        "    else :\n",
        "      freq[i]=1\n",
        "  # freq = sorted(freq)\n",
        "  # print(freq)\n",
        "  x=[]\n",
        "  y=[]\n",
        "  for i in sorted(freq.keys(),reverse=True) :\n",
        "    x.append(i)\n",
        "    y.append(freq[i])\n",
        "  # print(x)\n",
        "  plt.scatter(x, y,s=5,color='r')\n",
        "  # plt.plot(x, y)\n",
        "  name = file.split('.')[0]\n",
        "  plt.savefig('plots/'+name+\"_scatter.png\",dpi=1000)\n",
        "  plt.clf()\n",
        "\n",
        "  plt.hist(data,bins = 100,color='r')\n",
        "  plt.savefig('plots/'+name+\"_histogram.png\",dpi=1000)\n",
        "  plt.clf()\n",
        "  for i in range(1,len(y)) :\n",
        "    y[i]+=y[i-1]\n",
        "  plt.scatter(x, y,s=5,color='b')\n",
        "  # plt.plot(x, y)\n",
        "  plt.savefig('plots/'+name+\"_scatter_cumulative.png\",dpi=1000)\n",
        "  plt.clf()\n",
        "  plt.hist(data,bins = 100,cumulative=-1)\n",
        "  plt.savefig('plots/'+name+\"_histogram_cumulative.png\",dpi=1000) \n",
        "  plt.clf()\n",
        "  ## the difference is still not clearly visivle in cumulative we will take reverse cumulative\n",
        "  plt.hist(data,bins = 100,cumulative=1)\n",
        "  plt.savefig('plots/'+name+\"_histogram_cumulative_JustToKnowTheDifference.png\",dpi=1000) \n",
        "\n",
        "  \n"
      ],
      "execution_count": null,
      "outputs": []
    },
    {
      "cell_type": "code",
      "metadata": {
        "colab": {
          "base_uri": "https://localhost:8080/",
          "height": 265
        },
        "id": "brP5jE19BClb",
        "outputId": "871bc922-7751-4609-c267-77e4852fb379"
      },
      "source": [
        "plot_dis(\"biomedical_sorted.txt\")"
      ],
      "execution_count": null,
      "outputs": [
        {
          "output_type": "display_data",
          "data": {
            "image/png": "[encoded data removed]",
            "text/plain": [
              "<Figure size 432x288 with 1 Axes>"
            ]
          },
          "metadata": {
            "tags": [],
            "needs_background": "light"
          }
        }
      ]
    },
    {
      "cell_type": "code",
      "metadata": {
        "colab": {
          "base_uri": "https://localhost:8080/",
          "height": 265
        },
        "id": "pmUNPWjOBPuC",
        "outputId": "10356d63-ab13-40ee-d088-7e9c11462ea9"
      },
      "source": [
        "plot_dis(\"English_sorted.txt\")"
      ],
      "execution_count": null,
      "outputs": [
        {
          "output_type": "display_data",
          "data": {
            "image/png": "[encoded data removed]",
            "text/plain": [
              "<Figure size 432x288 with 1 Axes>"
            ]
          },
          "metadata": {
            "tags": [],
            "needs_background": "light"
          }
        }
      ]
    },
    {
      "cell_type": "code",
      "metadata": {
        "colab": {
          "base_uri": "https://localhost:8080/",
          "height": 265
        },
        "id": "F6g3qLtzFKA_",
        "outputId": "e09abde8-624c-4e6f-89b7-8fcb36e4ba36"
      },
      "source": [
        "plot_dis(\"simple_last_col_sorted.txt\")"
      ],
      "execution_count": null,
      "outputs": [
        {
          "output_type": "display_data",
          "data": {
            "image/png": "[encoded data removed]",
            "text/plain": [
              "<Figure size 432x288 with 1 Axes>"
            ]
          },
          "metadata": {
            "tags": [],
            "needs_background": "light"
          }
        }
      ]
    },
    {
      "cell_type": "code",
      "metadata": {
        "colab": {
          "base_uri": "https://localhost:8080/",
          "height": 265
        },
        "id": "yJtgjc8FFpNl",
        "outputId": "a85fe597-e839-4d49-f56d-e65bd2882c9c"
      },
      "source": [
        "plot_dis(\"subtitles_sorted.txt\")"
      ],
      "execution_count": null,
      "outputs": [
        {
          "output_type": "display_data",
          "data": {
            "image/png": "[encoded data removed]",
            "text/plain": [
              "<Figure size 432x288 with 1 Axes>"
            ]
          },
          "metadata": {
            "tags": [],
            "needs_background": "light"
          }
        }
      ]
    },
    {
      "cell_type": "code",
      "metadata": {
        "id": "6gCez1VGF53t",
        "colab": {
          "base_uri": "https://localhost:8080/"
        },
        "outputId": "86124f59-7748-4f71-f469-bcf5571b4740"
      },
      "source": [
        "!ls corpus"
      ],
      "execution_count": 11,
      "outputs": [
        {
          "output_type": "stream",
          "text": [
            "biomedical_preprocessed.txt  simple_last_col_preprocessed.txt\n",
            "biomedical_sorted.txt\t     simple_last_col_sorted.txt\n",
            "biomedical.txt\t\t     simple_last_col.txt\n",
            "English_preprocessed.txt     simple.txt\n",
            "English_sorted.txt\t     subtitles_preprocessed.txt\n",
            "English.txt\t\t     subtitles_sorted.txt\n",
            "familarity.txt\t\t     subtitles.txt\n",
            "nlpdata_craft\n"
          ],
          "name": "stdout"
        }
      ]
    },
    {
      "cell_type": "code",
      "metadata": {
        "colab": {
          "base_uri": "https://localhost:8080/"
        },
        "id": "ZkZaIoJzG7Jb",
        "outputId": "c42e0bb6-44e1-4640-dfc3-a9f7729e84fa"
      },
      "source": [
        "! ls corpus | grep sorted"
      ],
      "execution_count": 12,
      "outputs": [
        {
          "output_type": "stream",
          "text": [
            "biomedical_sorted.txt\n",
            "English_sorted.txt\n",
            "simple_last_col_sorted.txt\n",
            "subtitles_sorted.txt\n"
          ],
          "name": "stdout"
        }
      ]
    },
    {
      "cell_type": "code",
      "metadata": {
        "colab": {
          "base_uri": "https://localhost:8080/"
        },
        "id": "GH8HdEJPHlJQ",
        "outputId": "b045c1b9-a440-40b4-adaf-460559465da6"
      },
      "source": [
        "% cd corpus"
      ],
      "execution_count": 18,
      "outputs": [
        {
          "output_type": "stream",
          "text": [
            "/content/drive/My Drive/nlp_project/corpus\n"
          ],
          "name": "stdout"
        }
      ]
    },
    {
      "cell_type": "code",
      "metadata": {
        "id": "6tRgFB7LIQq9"
      },
      "source": [
        "! cp biomedical_sorted.txt English_sorted.txt simple_last_col_sorted.txt subtitles_sorted.txt ../data/sorted"
      ],
      "execution_count": 19,
      "outputs": []
    },
    {
      "cell_type": "code",
      "metadata": {
        "colab": {
          "base_uri": "https://localhost:8080/"
        },
        "id": "hziksqq8Ig0z",
        "outputId": "52c92f59-8ac8-4cf3-988f-7e6af9a4f360"
      },
      "source": [
        "% cd .."
      ],
      "execution_count": 20,
      "outputs": [
        {
          "output_type": "stream",
          "text": [
            "/content/drive/My Drive/nlp_project\n"
          ],
          "name": "stdout"
        }
      ]
    },
    {
      "cell_type": "code",
      "metadata": {
        "colab": {
          "base_uri": "https://localhost:8080/"
        },
        "id": "w0Z9PVbtI2OX",
        "outputId": "d243f0f8-e7e9-4687-fa37-801f6efa3e57"
      },
      "source": [
        "! ls data/sorted/"
      ],
      "execution_count": 21,
      "outputs": [
        {
          "output_type": "stream",
          "text": [
            "biomedical_sorted.txt  simple_last_col_sorted.txt\n",
            "English_sorted.txt     subtitles_sorted.txt\n"
          ],
          "name": "stdout"
        }
      ]
    },
    {
      "cell_type": "code",
      "metadata": {
        "colab": {
          "base_uri": "https://localhost:8080/"
        },
        "id": "9kaHptk8JD8H",
        "outputId": "e70d22b0-7627-40ea-e2ad-41069a3a87ed"
      },
      "source": [
        "% cd .."
      ],
      "execution_count": 23,
      "outputs": [
        {
          "output_type": "stream",
          "text": [
            "/content/drive/My Drive/nlp_project\n"
          ],
          "name": "stdout"
        }
      ]
    },
    {
      "cell_type": "code",
      "metadata": {
        "colab": {
          "base_uri": "https://localhost:8080/"
        },
        "id": "6PaAezLNM9ST",
        "outputId": "2364e8bb-aa61-466c-d959-b281cf19488a"
      },
      "source": [
        "! ls data/sorted"
      ],
      "execution_count": 26,
      "outputs": [
        {
          "output_type": "stream",
          "text": [
            "bible_sorted.txt  biomedical_sorted.txt  subtitles_sorted.txt  wiki_sorted.txt\n"
          ],
          "name": "stdout"
        }
      ]
    },
    {
      "cell_type": "code",
      "metadata": {
        "id": "pW__do6rM9LG"
      },
      "source": [
        ""
      ],
      "execution_count": null,
      "outputs": []
    },
    {
      "cell_type": "code",
      "metadata": {
        "id": "eqymNgWIJmJB"
      },
      "source": [
        "\n",
        "import os \n",
        "import pandas as pd\n",
        "\n",
        "def add_single_feature(file,top_bible,top_subtitles,top_biomedical,top_wiki) :\n",
        "  df = pd.read_csv(\"data/preprocessed/\" +file )\n",
        "\n",
        "  ###############biomedical###########################\n",
        "\n",
        "  top_word = []\n",
        "  f = open(\"data/sorted/biomedical_sorted.txt\",'r')\n",
        "  for i in range(top_biomedical) :\n",
        "    line = f.readline()\n",
        "    word = line.split()[1]\n",
        "    top_word.append(word)\n",
        "  top_word = set(top_word)\n",
        "  ans = []\n",
        "  for i in range(len(df)) :\n",
        "    word  = df.at[i,\"token\"]\n",
        "    if type(word) is not str :\n",
        "      ans.append(0)\n",
        "    else :\n",
        "      if word in top_word :\n",
        "        ans.append(1)\n",
        "      else :\n",
        "        ans.append(0)\n",
        "  df['biomedical'] = ans\n",
        "\n",
        "  ###############biomedical###########################\n",
        "\n",
        "  ###############bible###########################\n",
        "\n",
        "  top_word = []\n",
        "  f = open(\"data/sorted/bible_sorted.txt\",'r')\n",
        "  for i in range(top_bible) :\n",
        "    line = f.readline()\n",
        "    word = line.split()[1]\n",
        "    top_word.append(word)\n",
        "  top_word = set(top_word)\n",
        "  ans = []\n",
        "  for i in range(len(df)) :\n",
        "    word  = df.at[i,\"token\"]\n",
        "    if type(word) is not str :\n",
        "      ans.append(0)\n",
        "    else :\n",
        "      if word in top_word :\n",
        "        ans.append(1)\n",
        "      else :\n",
        "        ans.append(0)\n",
        "  df['bible'] = ans\n",
        "\n",
        "  ###############bible###########################\n",
        "\n",
        "  ###############subtitles###########################\n",
        "\n",
        "  top_word = []\n",
        "  f = open(\"data/sorted/subtitles_sorted.txt\",'r')\n",
        "  for i in range(top_subtitles) :\n",
        "    line = f.readline()\n",
        "    word = line.split()[1]\n",
        "    top_word.append(word)\n",
        "  top_word = set(top_word)\n",
        "  ans = []\n",
        "  for i in range(len(df)) :\n",
        "    word  = df.at[i,\"token\"]\n",
        "    if type(word) is not str :\n",
        "      ans.append(0)\n",
        "    else :\n",
        "      if word in top_word :\n",
        "        ans.append(1)\n",
        "      else :\n",
        "        ans.append(0)\n",
        "  df['subtitles'] = ans\n",
        "\n",
        "  ###############subtitles###########################\n",
        "\n",
        "\n",
        "  ###############wiki###########################\n",
        "\n",
        "  top_word = []\n",
        "  f = open(\"data/sorted/wiki_sorted.txt\",'r')\n",
        "  for i in range(top_wiki) :\n",
        "    line = f.readline()\n",
        "    word = line.split()[1]\n",
        "    top_word.append(word)\n",
        "  top_word = set(top_word)\n",
        "  ans = []\n",
        "  for i in range(len(df)) :\n",
        "    word  = df.at[i,\"token\"]\n",
        "    if type(word) is not str :\n",
        "      ans.append(0)\n",
        "    else :\n",
        "      if word in top_word :\n",
        "        ans.append(1)\n",
        "      else :\n",
        "        ans.append(0)\n",
        "  df['wiki'] = ans\n",
        "\n",
        "  ###############wiki###########################\n",
        "\n",
        "\n",
        "  df.to_csv(\"data/added_corpus_presence/\"+file,index = False)"
      ],
      "execution_count": 36,
      "outputs": []
    },
    {
      "cell_type": "code",
      "metadata": {
        "id": "GW12Nip5P7Gp"
      },
      "source": [
        "add_single_feature(\"lcp_single_test_preprocessed.csv\",500,500,500,500)"
      ],
      "execution_count": 37,
      "outputs": []
    },
    {
      "cell_type": "code",
      "metadata": {
        "id": "e84KtIL9QK2Y"
      },
      "source": [
        "add_single_feature(\"lcp_single_train_preprocessed.csv\",500,500,500,500)"
      ],
      "execution_count": 38,
      "outputs": []
    },
    {
      "cell_type": "code",
      "metadata": {
        "id": "RYsKYLluQvPq"
      },
      "source": [
        "\n",
        "import os \n",
        "import pandas as pd\n",
        "\n",
        "def add_multi_feature(file,top_bible,top_subtitles,top_biomedical,top_wiki) :\n",
        "  df = pd.read_csv(\"data/preprocessed/\" +file )\n",
        "\n",
        "  ###############biomedical###########################\n",
        "\n",
        "  top_word = []\n",
        "  f = open(\"data/sorted/biomedical_sorted.txt\",'r')\n",
        "  for i in range(top_biomedical) :\n",
        "    line = f.readline()\n",
        "    word = line.split()[1]\n",
        "    top_word.append(word)\n",
        "  top_word = set(top_word)\n",
        "  ans = []\n",
        "  for i in range(len(df)) :\n",
        "    word1,word2  = df.at[i,\"token\"].split()\n",
        "\n",
        "    if word1 in top_word and word2 in top_word :\n",
        "      ans.append(1)\n",
        "    else :\n",
        "      ans.append(0)\n",
        "  df['biomedical'] = ans\n",
        "\n",
        "  ###############biomedical###########################\n",
        "\n",
        "  ###############bible###########################\n",
        "\n",
        "  top_word = []\n",
        "  f = open(\"data/sorted/bible_sorted.txt\",'r')\n",
        "  for i in range(top_bible) :\n",
        "    line = f.readline()\n",
        "    word = line.split()[1]\n",
        "    top_word.append(word)\n",
        "  top_word = set(top_word)\n",
        "  ans = []\n",
        "  for i in range(len(df)) :\n",
        "    word1,word2  = df.at[i,\"token\"].split()\n",
        "\n",
        "    if word1 in top_word and word2 in top_word :\n",
        "      ans.append(1)\n",
        "    else :\n",
        "      ans.append(0)\n",
        "  df['bible'] = ans\n",
        "\n",
        "  ###############bible###########################\n",
        "\n",
        "  ###############subtitles###########################\n",
        "\n",
        "  top_word = []\n",
        "  f = open(\"data/sorted/subtitles_sorted.txt\",'r')\n",
        "  for i in range(top_subtitles) :\n",
        "    line = f.readline()\n",
        "    word = line.split()[1]\n",
        "    top_word.append(word)\n",
        "  top_word = set(top_word)\n",
        "  ans = []\n",
        "  for i in range(len(df)) :\n",
        "    word1,word2  = df.at[i,\"token\"].split()\n",
        "\n",
        "    if word1 in top_word and word2 in top_word :\n",
        "      ans.append(1)\n",
        "    else :\n",
        "      ans.append(0)\n",
        "  df['subtitles'] = ans\n",
        "\n",
        "  ###############subtitles###########################\n",
        "\n",
        "\n",
        "  ###############wiki###########################\n",
        "\n",
        "  top_word = []\n",
        "  f = open(\"data/sorted/wiki_sorted.txt\",'r')\n",
        "  for i in range(top_wiki) :\n",
        "    line = f.readline()\n",
        "    word = line.split()[1]\n",
        "    top_word.append(word)\n",
        "  top_word = set(top_word)\n",
        "  ans = []\n",
        "  for i in range(len(df)) :\n",
        "    word1,word2  = df.at[i,\"token\"].split()\n",
        "\n",
        "    if word1 in top_word and word2 in top_word :\n",
        "      ans.append(1)\n",
        "    else :\n",
        "      ans.append(0)\n",
        "  df['wiki'] = ans\n",
        "\n",
        "  ###############wiki###########################\n",
        "\n",
        "\n",
        "  df.to_csv(\"data/added_corpus_presence/\"+file,index = False)"
      ],
      "execution_count": 41,
      "outputs": []
    },
    {
      "cell_type": "code",
      "metadata": {
        "colab": {
          "base_uri": "https://localhost:8080/"
        },
        "id": "DoQ19tnJSoAV",
        "outputId": "943631ef-fabf-4f19-8364-a0d8ff1c2fd3"
      },
      "source": [
        "!ls data/preprocessed"
      ],
      "execution_count": 40,
      "outputs": [
        {
          "output_type": "stream",
          "text": [
            "lcp_multi_test_preprocessed.csv   lcp_single_test_preprocessed.csv\n",
            "lcp_multi_train_preprocessed.csv  lcp_single_train_preprocessed.csv\n"
          ],
          "name": "stdout"
        }
      ]
    },
    {
      "cell_type": "code",
      "metadata": {
        "id": "tgf5vFi-Sevr"
      },
      "source": [
        "add_multi_feature(\"lcp_multi_test_preprocessed.csv\",500,500,500,500)"
      ],
      "execution_count": 42,
      "outputs": []
    },
    {
      "cell_type": "code",
      "metadata": {
        "id": "6l1XouHAS1Bj"
      },
      "source": [
        "add_multi_feature(\"lcp_multi_train_preprocessed.csv\",500,500,500,500)"
      ],
      "execution_count": 43,
      "outputs": []
    },
    {
      "cell_type": "code",
      "metadata": {
        "id": "uuEWyjEZTATj"
      },
      "source": [
        ""
      ],
      "execution_count": null,
      "outputs": []
    }
  ]
}