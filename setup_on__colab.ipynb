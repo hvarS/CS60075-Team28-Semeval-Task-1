{
  "nbformat": 4,
  "nbformat_minor": 0,
  "metadata": {
    "colab": {
      "name": "setup_on _colab.ipynb",
      "provenance": [],
      "collapsed_sections": [
        "iWllGGu74i-E"
      ],
      "authorship_tag": "ABX9TyNG8qhyKGh0KZYrUrK8wD9u",
      "include_colab_link": true
    },
    "kernelspec": {
      "name": "python3",
      "display_name": "Python 3"
    },
    "language_info": {
      "name": "python"
    }
  },
  "cells": [
    {
      "cell_type": "markdown",
      "metadata": {
        "id": "view-in-github",
        "colab_type": "text"
      },
      "source": [
        "<a href=\"https://colab.research.google.com/github/hvarS/CS60075-Team28-Task-1/blob/main/setup_on__colab.ipynb\" target=\"_parent\"><img src=\"https://colab.research.google.com/assets/colab-badge.svg\" alt=\"Open In Colab\"/></a>"
      ]
    },
    {
      "cell_type": "code",
      "metadata": {
        "colab": {
          "base_uri": "https://localhost:8080/"
        },
        "id": "ZBOX0_Tm33_9",
        "outputId": "a513456e-c0a4-4902-9fc0-72078af4f806"
      },
      "source": [
        "from google.colab import drive\n",
        "drive.mount('/content/drive')"
      ],
      "execution_count": null,
      "outputs": [
        {
          "output_type": "stream",
          "text": [
            "Mounted at /content/drive\n"
          ],
          "name": "stdout"
        }
      ]
    },
    {
      "cell_type": "markdown",
      "metadata": {
        "id": "izQFO_9p4VFz"
      },
      "source": [
        "## Generate and add ssh key"
      ]
    },
    {
      "cell_type": "code",
      "metadata": {
        "id": "DEIw9zHK4HAP"
      },
      "source": [
        "# #  do not enter any passphrase\n",
        "!ssh-keygen -t rsa -b 4096"
      ],
      "execution_count": 32,
      "outputs": []
    },
    {
      "cell_type": "code",
      "metadata": {
        "id": "6q22IQeI4NHb",
        "colab": {
          "base_uri": "https://localhost:8080/"
        },
        "outputId": "3fa6cd22-9bc9-4613-981a-08c4af473618"
      },
      "source": [
        "!ssh-keyscan -t rsa github.com >> ~/.ssh/known_hosts"
      ],
      "execution_count": null,
      "outputs": [
        {
          "output_type": "stream",
          "text": [
            "\n",
            "# github.com:22 SSH-2.0-babeld-0913e7e1\n"
          ],
          "name": "stdout"
        }
      ]
    },
    {
      "cell_type": "code",
      "metadata": {
        "id": "YyR0_tCs4Pn1"
      },
      "source": [
        "#  add this to github\n",
        "!cat /root/.ssh/id_rsa.pub"
      ],
      "execution_count": 33,
      "outputs": []
    },
    {
      "cell_type": "code",
      "metadata": {
        "id": "60ZQHSr55rzf"
      },
      "source": [
        "!git config --global user.email \"ankit2000.bagde@gmail.com\""
      ],
      "execution_count": null,
      "outputs": []
    },
    {
      "cell_type": "markdown",
      "metadata": {
        "id": "iWllGGu74i-E"
      },
      "source": [
        "## Git clone"
      ]
    },
    {
      "cell_type": "code",
      "metadata": {
        "colab": {
          "base_uri": "https://localhost:8080/"
        },
        "id": "5IBQZT2b39I3",
        "outputId": "8e7e6ac3-f44e-418d-cfb8-1287597eb959"
      },
      "source": [
        "%cd /content/drive/MyDrive/\n",
        "!git clone git@github.com:hvarS/CS60075-Team28-Task-1.git"
      ],
      "execution_count": null,
      "outputs": [
        {
          "output_type": "stream",
          "text": [
            "/content/drive/MyDrive\n"
          ],
          "name": "stdout"
        }
      ]
    }
  ]
}