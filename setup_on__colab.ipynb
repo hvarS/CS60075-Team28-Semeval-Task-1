{
  "nbformat": 4,
  "nbformat_minor": 0,
  "metadata": {
    "colab": {
      "name": "setup_on _colab.ipynb",
      "provenance": [],
      "collapsed_sections": [
        "iWllGGu74i-E"
      ],
      "authorship_tag": "ABX9TyMkJZPFmVT2KQEToqDnwk/2",
      "include_colab_link": true
    },
    "kernelspec": {
      "name": "python3",
      "display_name": "Python 3"
    },
    "language_info": {
      "name": "python"
    }
  },
  "cells": [
    {
      "cell_type": "markdown",
      "metadata": {
        "id": "view-in-github",
        "colab_type": "text"
      },
      "source": [
        "<a href=\"https://colab.research.google.com/github/hvarS/CS60075-Team28-Task-1/blob/main/setup_on__colab.ipynb\" target=\"_parent\"><img src=\"https://colab.research.google.com/assets/colab-badge.svg\" alt=\"Open In Colab\"/></a>"
      ]
    },
    {
      "cell_type": "code",
      "metadata": {
        "colab": {
          "base_uri": "https://localhost:8080/"
        },
        "id": "ZBOX0_Tm33_9",
        "outputId": "a513456e-c0a4-4902-9fc0-72078af4f806"
      },
      "source": [
        "from google.colab import drive\n",
        "drive.mount('/content/drive')"
      ],
      "execution_count": null,
      "outputs": [
        {
          "output_type": "stream",
          "text": [
            "Mounted at /content/drive\n"
          ],
          "name": "stdout"
        }
      ]
    },
    {
      "cell_type": "markdown",
      "metadata": {
        "id": "izQFO_9p4VFz"
      },
      "source": [
        "## Generate and add ssh key"
      ]
    },
    {
      "cell_type": "code",
      "metadata": {
        "id": "DEIw9zHK4HAP",
        "colab": {
          "base_uri": "https://localhost:8080/"
        },
        "outputId": "4f6a64a7-c319-4d17-df4a-85334f621016"
      },
      "source": [
        "#  do not enter any passphrase\n",
        "!ssh-keygen -t rsa -b 4096"
      ],
      "execution_count": null,
      "outputs": [
        {
          "output_type": "stream",
          "text": [
            "Generating public/private rsa key pair.\n",
            "Enter file in which to save the key (/root/.ssh/id_rsa): \n",
            "Enter passphrase (empty for no passphrase): \n",
            "Enter same passphrase again: \n",
            "Your identification has been saved in /root/.ssh/id_rsa.\n",
            "Your public key has been saved in /root/.ssh/id_rsa.pub.\n",
            "The key fingerprint is:\n",
            "SHA256:fj0RlB2dAAHnABmxV9CrX0ROeEP8XYTTfJNmJ2i0AWU root@e922d8157835\n",
            "The key's randomart image is:\n",
            "+---[RSA 4096]----+\n",
            "|       +=+=OE*oB+|\n",
            "|       .. ==+O=*B|\n",
            "|       . . oO =o*|\n",
            "|        .  . + ..|\n",
            "|        S . o    |\n",
            "|       . . . o   |\n",
            "|        . o +    |\n",
            "|         . . .   |\n",
            "|                 |\n",
            "+----[SHA256]-----+\n"
          ],
          "name": "stdout"
        }
      ]
    },
    {
      "cell_type": "code",
      "metadata": {
        "id": "6q22IQeI4NHb",
        "colab": {
          "base_uri": "https://localhost:8080/"
        },
        "outputId": "3fa6cd22-9bc9-4613-981a-08c4af473618"
      },
      "source": [
        "!ssh-keyscan -t rsa github.com >> ~/.ssh/known_hosts"
      ],
      "execution_count": null,
      "outputs": [
        {
          "output_type": "stream",
          "text": [
            "\n",
            "# github.com:22 SSH-2.0-babeld-0913e7e1\n"
          ],
          "name": "stdout"
        }
      ]
    },
    {
      "cell_type": "code",
      "metadata": {
        "id": "YyR0_tCs4Pn1",
        "colab": {
          "base_uri": "https://localhost:8080/"
        },
        "outputId": "cc2b248b-0fd8-4d91-d6d5-a2f6b6ef02c6"
      },
      "source": [
        "#  add this to github\n",
        "!cat /root/.ssh/id_rsa.pub"
      ],
      "execution_count": null,
      "outputs": [
        {
          "output_type": "stream",
          "text": [
            "ssh-rsa AAAAB3NzaC1yc2EAAAADAQABAAACAQD1zJmPswP6RHtO44HS+7J+UqXnjDz/4dWWjCrETz3E1XvNh25YDLntbkHact7vqnMmjkn4B0S+4oyF8CTN95SKT3v7OEhG2S6uPfbQKQP8EH2OyW9aTXXy2i34L4Yj7wz4qv/c7BPzGO6Wq3owxi1ILRj0PrKJuEkkw3DoeKievZRqqNjuGBCVWxpFTS4LS3cNjq11vfcfingYu5s0L6UtBxU9UV4qRJhevPE+yz9hlsoSo9GXXoxKarsX7qkaiJbsDuoRw34+kPbIEQIM/kMg5nfeiSIQHVFG5MOGcWsW2pWKXcOF4/9LNufAo/Of63z515xjyKPHjdIx97ahqw4V6YYHkdZKqqxewJKPH4JVrBu2pPjf3+hV+qBmRfw5olygJrkjrx+LRIwnr+7lUSK6sofo6x92HmhpBh9Q+l0fsgHHeyJIQZQUUvjl5CSOaymniEfRBgKQAs0ZfNTMS4vnXSRnJtymOAr5UMl3KH0flnUyqYoPaJurCl0KC+M6wweHhH+1SuKpzAjtiHGTmhBiVdqty50G1nDURg6qRwInp6mSTN70aWeTSdd2CpzCUdf61BLvYjjuKPfjjv6YdIrovHpQJ60LCyeuN+GQI08jXOiNv2+hVUDd2y84KmdKmR9MckyycWEOOam7DXtM6n1VNdOOTYnr+XVR+U2cN6hU1w== root@e922d8157835\n"
          ],
          "name": "stdout"
        }
      ]
    },
    {
      "cell_type": "code",
      "metadata": {
        "id": "60ZQHSr55rzf"
      },
      "source": [
        "!git config --global user.email \"ankit2000.bagde@gmail.com\""
      ],
      "execution_count": null,
      "outputs": []
    },
    {
      "cell_type": "markdown",
      "metadata": {
        "id": "iWllGGu74i-E"
      },
      "source": [
        "## Git clone"
      ]
    },
    {
      "cell_type": "code",
      "metadata": {
        "colab": {
          "base_uri": "https://localhost:8080/"
        },
        "id": "5IBQZT2b39I3",
        "outputId": "8e7e6ac3-f44e-418d-cfb8-1287597eb959"
      },
      "source": [
        "%cd /content/drive/MyDrive/\n",
        "!git clone git@github.com:hvarS/CS60075-Team28-Task-1.git"
      ],
      "execution_count": null,
      "outputs": [
        {
          "output_type": "stream",
          "text": [
            "/content/drive/MyDrive\n"
          ],
          "name": "stdout"
        }
      ]
    }
  ]
}